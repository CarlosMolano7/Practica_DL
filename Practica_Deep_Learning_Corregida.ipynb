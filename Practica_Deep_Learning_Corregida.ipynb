{
  "nbformat": 4,
  "nbformat_minor": 0,
  "metadata": {
    "colab": {
      "provenance": [],
      "collapsed_sections": [
        "SgxipGnwGcNa",
        "qOlpqkGPyPOC",
        "nKkZbtVYI5XM",
        "x_njf4OXJIoR",
        "KjQ-vBmfJZ9o",
        "t9ld4JGSR4Me",
        "V7HzTkCzcvyP",
        "1PSh0ZZPddU-"
      ]
    },
    "kernelspec": {
      "name": "python3",
      "display_name": "Python 3"
    },
    "language_info": {
      "name": "python"
    }
  },
  "cells": [
    {
      "cell_type": "markdown",
      "source": [
        "## Carga y formatting del CSV de los datos"
      ],
      "metadata": {
        "id": "KOdhx8z5YURF"
      }
    },
    {
      "cell_type": "code",
      "source": [
        "import cv2\n",
        "import numpy\n",
        "import pandas\n",
        "import imageio.v3 as io\n",
        "import matplotlib.pyplot as plt\n",
        "\n",
        "from tqdm import tqdm\n",
        "from scipy.stats import spearmanr\n",
        "from sklearn.model_selection import train_test_split\n",
        "from sklearn.preprocessing import StandardScaler\n",
        "from sklearn.preprocessing import MinMaxScaler\n",
        "from sklearn.decomposition import PCA\n",
        "from tensorflow.keras import Model\n",
        "from tensorflow.keras.utils import to_categorical\n",
        "from tensorflow.keras.models import Sequential\n",
        "from tensorflow.keras.layers import Dense, Dropout, Flatten, GlobalAveragePooling2D\n",
        "from tensorflow.keras.callbacks import EarlyStopping\n",
        "from tensorflow.keras.applications import ResNet50\n",
        "from tensorflow.keras.applications import imagenet_utils\n",
        "from tensorflow.keras.optimizers import Adam\n",
        "\n",
        "from typing import Optional, Union"
      ],
      "metadata": {
        "id": "Q1W68rvZpVBS"
      },
      "execution_count": null,
      "outputs": []
    },
    {
      "cell_type": "code",
      "source": [
        "data = pandas.read_csv('https://docs.google.com/spreadsheets/d/e/2PACX-1vTvwmuQ-f2GebKR43ox55OIxy5qZxjc7bzmwYtAJSDfOQWRwON0wcyuPHZLlqkJDBLLF3h84krFVpKO/pub?gid=758289265&single=true&output=csv')\n",
        "data.dropna(subset=[\"price\"], inplace=True) # eliminar posibles datos no etiquetados\n",
        "data.dropna(axis=1, how=\"all\", inplace=True) # eliminar columnas vacías\n",
        "data.head(5)"
      ],
      "metadata": {
        "colab": {
          "base_uri": "https://localhost:8080/",
          "height": 342
        },
        "id": "jkd5AKJ0Y3vl",
        "outputId": "d65baaa5-e516-4986-a482-9dc81f4e589d"
      },
      "execution_count": null,
      "outputs": [
        {
          "output_type": "execute_result",
          "data": {
            "text/plain": [
              "      id                         listing_url       scrape_id last_scraped  \\\n",
              "0   3781   https://www.airbnb.com/rooms/3781  20231218233145   2023-12-19   \n",
              "1   5506   https://www.airbnb.com/rooms/5506  20231218233145   2023-12-19   \n",
              "2   6695   https://www.airbnb.com/rooms/6695  20231218233145   2023-12-19   \n",
              "3   8789   https://www.airbnb.com/rooms/8789  20231218233145   2023-12-19   \n",
              "4  10813  https://www.airbnb.com/rooms/10813  20231218233145   2023-12-19   \n",
              "\n",
              "        source                                        picture_url  host_id  \\\n",
              "0  city scrape  https://a0.muscache.com/pictures/24670/b2de044...     4804   \n",
              "1  city scrape  https://a0.muscache.com/pictures/miso/Hosting-...     8229   \n",
              "2  city scrape  https://a0.muscache.com/pictures/38ac4797-e7a4...     8229   \n",
              "3  city scrape  https://a0.muscache.com/pictures/miso/Hosting-...    26988   \n",
              "4  city scrape  https://a0.muscache.com/pictures/20b5b9c9-e1f4...    38997   \n",
              "\n",
              "                                  host_url host_name  host_since  ...  \\\n",
              "0   https://www.airbnb.com/users/show/4804     Frank  2008-12-03  ...   \n",
              "1   https://www.airbnb.com/users/show/8229     Terry  2009-02-19  ...   \n",
              "2   https://www.airbnb.com/users/show/8229     Terry  2009-02-19  ...   \n",
              "3  https://www.airbnb.com/users/show/26988      Anne  2009-07-22  ...   \n",
              "4  https://www.airbnb.com/users/show/38997  Michelle  2009-09-16  ...   \n",
              "\n",
              "  review_scores_communication review_scores_location review_scores_value  \\\n",
              "0                        4.96                   4.88                4.92   \n",
              "1                        4.89                   4.55                4.75   \n",
              "2                        4.95                   4.51                4.71   \n",
              "3                        4.96                   4.96                4.56   \n",
              "4                        5.00                   5.00                4.80   \n",
              "\n",
              "      license instant_bookable calculated_host_listings_count  \\\n",
              "0         NaN                f                              1   \n",
              "1  STR-490093                f                             10   \n",
              "2  STR-491702                f                             10   \n",
              "3         NaN                f                              9   \n",
              "4         NaN                f                             11   \n",
              "\n",
              "  calculated_host_listings_count_entire_homes  \\\n",
              "0                                           1   \n",
              "1                                          10   \n",
              "2                                          10   \n",
              "3                                           9   \n",
              "4                                          11   \n",
              "\n",
              "  calculated_host_listings_count_private_rooms  \\\n",
              "0                                            0   \n",
              "1                                            0   \n",
              "2                                            0   \n",
              "3                                            0   \n",
              "4                                            0   \n",
              "\n",
              "  calculated_host_listings_count_shared_rooms  reviews_per_month  \n",
              "0                                           0               0.23  \n",
              "1                                           0               0.68  \n",
              "2                                           0               0.73  \n",
              "3                                           0               0.24  \n",
              "4                                           0               0.09  \n",
              "\n",
              "[5 rows x 68 columns]"
            ],
            "text/html": [
              "\n",
              "  <div id=\"df-6e7ecaf0-0952-4694-965f-fd5eae086136\" class=\"colab-df-container\">\n",
              "    <div>\n",
              "<style scoped>\n",
              "    .dataframe tbody tr th:only-of-type {\n",
              "        vertical-align: middle;\n",
              "    }\n",
              "\n",
              "    .dataframe tbody tr th {\n",
              "        vertical-align: top;\n",
              "    }\n",
              "\n",
              "    .dataframe thead th {\n",
              "        text-align: right;\n",
              "    }\n",
              "</style>\n",
              "<table border=\"1\" class=\"dataframe\">\n",
              "  <thead>\n",
              "    <tr style=\"text-align: right;\">\n",
              "      <th></th>\n",
              "      <th>id</th>\n",
              "      <th>listing_url</th>\n",
              "      <th>scrape_id</th>\n",
              "      <th>last_scraped</th>\n",
              "      <th>source</th>\n",
              "      <th>picture_url</th>\n",
              "      <th>host_id</th>\n",
              "      <th>host_url</th>\n",
              "      <th>host_name</th>\n",
              "      <th>host_since</th>\n",
              "      <th>...</th>\n",
              "      <th>review_scores_communication</th>\n",
              "      <th>review_scores_location</th>\n",
              "      <th>review_scores_value</th>\n",
              "      <th>license</th>\n",
              "      <th>instant_bookable</th>\n",
              "      <th>calculated_host_listings_count</th>\n",
              "      <th>calculated_host_listings_count_entire_homes</th>\n",
              "      <th>calculated_host_listings_count_private_rooms</th>\n",
              "      <th>calculated_host_listings_count_shared_rooms</th>\n",
              "      <th>reviews_per_month</th>\n",
              "    </tr>\n",
              "  </thead>\n",
              "  <tbody>\n",
              "    <tr>\n",
              "      <th>0</th>\n",
              "      <td>3781</td>\n",
              "      <td>https://www.airbnb.com/rooms/3781</td>\n",
              "      <td>20231218233145</td>\n",
              "      <td>2023-12-19</td>\n",
              "      <td>city scrape</td>\n",
              "      <td>https://a0.muscache.com/pictures/24670/b2de044...</td>\n",
              "      <td>4804</td>\n",
              "      <td>https://www.airbnb.com/users/show/4804</td>\n",
              "      <td>Frank</td>\n",
              "      <td>2008-12-03</td>\n",
              "      <td>...</td>\n",
              "      <td>4.96</td>\n",
              "      <td>4.88</td>\n",
              "      <td>4.92</td>\n",
              "      <td>NaN</td>\n",
              "      <td>f</td>\n",
              "      <td>1</td>\n",
              "      <td>1</td>\n",
              "      <td>0</td>\n",
              "      <td>0</td>\n",
              "      <td>0.23</td>\n",
              "    </tr>\n",
              "    <tr>\n",
              "      <th>1</th>\n",
              "      <td>5506</td>\n",
              "      <td>https://www.airbnb.com/rooms/5506</td>\n",
              "      <td>20231218233145</td>\n",
              "      <td>2023-12-19</td>\n",
              "      <td>city scrape</td>\n",
              "      <td>https://a0.muscache.com/pictures/miso/Hosting-...</td>\n",
              "      <td>8229</td>\n",
              "      <td>https://www.airbnb.com/users/show/8229</td>\n",
              "      <td>Terry</td>\n",
              "      <td>2009-02-19</td>\n",
              "      <td>...</td>\n",
              "      <td>4.89</td>\n",
              "      <td>4.55</td>\n",
              "      <td>4.75</td>\n",
              "      <td>STR-490093</td>\n",
              "      <td>f</td>\n",
              "      <td>10</td>\n",
              "      <td>10</td>\n",
              "      <td>0</td>\n",
              "      <td>0</td>\n",
              "      <td>0.68</td>\n",
              "    </tr>\n",
              "    <tr>\n",
              "      <th>2</th>\n",
              "      <td>6695</td>\n",
              "      <td>https://www.airbnb.com/rooms/6695</td>\n",
              "      <td>20231218233145</td>\n",
              "      <td>2023-12-19</td>\n",
              "      <td>city scrape</td>\n",
              "      <td>https://a0.muscache.com/pictures/38ac4797-e7a4...</td>\n",
              "      <td>8229</td>\n",
              "      <td>https://www.airbnb.com/users/show/8229</td>\n",
              "      <td>Terry</td>\n",
              "      <td>2009-02-19</td>\n",
              "      <td>...</td>\n",
              "      <td>4.95</td>\n",
              "      <td>4.51</td>\n",
              "      <td>4.71</td>\n",
              "      <td>STR-491702</td>\n",
              "      <td>f</td>\n",
              "      <td>10</td>\n",
              "      <td>10</td>\n",
              "      <td>0</td>\n",
              "      <td>0</td>\n",
              "      <td>0.73</td>\n",
              "    </tr>\n",
              "    <tr>\n",
              "      <th>3</th>\n",
              "      <td>8789</td>\n",
              "      <td>https://www.airbnb.com/rooms/8789</td>\n",
              "      <td>20231218233145</td>\n",
              "      <td>2023-12-19</td>\n",
              "      <td>city scrape</td>\n",
              "      <td>https://a0.muscache.com/pictures/miso/Hosting-...</td>\n",
              "      <td>26988</td>\n",
              "      <td>https://www.airbnb.com/users/show/26988</td>\n",
              "      <td>Anne</td>\n",
              "      <td>2009-07-22</td>\n",
              "      <td>...</td>\n",
              "      <td>4.96</td>\n",
              "      <td>4.96</td>\n",
              "      <td>4.56</td>\n",
              "      <td>NaN</td>\n",
              "      <td>f</td>\n",
              "      <td>9</td>\n",
              "      <td>9</td>\n",
              "      <td>0</td>\n",
              "      <td>0</td>\n",
              "      <td>0.24</td>\n",
              "    </tr>\n",
              "    <tr>\n",
              "      <th>4</th>\n",
              "      <td>10813</td>\n",
              "      <td>https://www.airbnb.com/rooms/10813</td>\n",
              "      <td>20231218233145</td>\n",
              "      <td>2023-12-19</td>\n",
              "      <td>city scrape</td>\n",
              "      <td>https://a0.muscache.com/pictures/20b5b9c9-e1f4...</td>\n",
              "      <td>38997</td>\n",
              "      <td>https://www.airbnb.com/users/show/38997</td>\n",
              "      <td>Michelle</td>\n",
              "      <td>2009-09-16</td>\n",
              "      <td>...</td>\n",
              "      <td>5.00</td>\n",
              "      <td>5.00</td>\n",
              "      <td>4.80</td>\n",
              "      <td>NaN</td>\n",
              "      <td>f</td>\n",
              "      <td>11</td>\n",
              "      <td>11</td>\n",
              "      <td>0</td>\n",
              "      <td>0</td>\n",
              "      <td>0.09</td>\n",
              "    </tr>\n",
              "  </tbody>\n",
              "</table>\n",
              "<p>5 rows × 68 columns</p>\n",
              "</div>\n",
              "    <div class=\"colab-df-buttons\">\n",
              "\n",
              "  <div class=\"colab-df-container\">\n",
              "    <button class=\"colab-df-convert\" onclick=\"convertToInteractive('df-6e7ecaf0-0952-4694-965f-fd5eae086136')\"\n",
              "            title=\"Convert this dataframe to an interactive table.\"\n",
              "            style=\"display:none;\">\n",
              "\n",
              "  <svg xmlns=\"http://www.w3.org/2000/svg\" height=\"24px\" viewBox=\"0 -960 960 960\">\n",
              "    <path d=\"M120-120v-720h720v720H120Zm60-500h600v-160H180v160Zm220 220h160v-160H400v160Zm0 220h160v-160H400v160ZM180-400h160v-160H180v160Zm440 0h160v-160H620v160ZM180-180h160v-160H180v160Zm440 0h160v-160H620v160Z\"/>\n",
              "  </svg>\n",
              "    </button>\n",
              "\n",
              "  <style>\n",
              "    .colab-df-container {\n",
              "      display:flex;\n",
              "      gap: 12px;\n",
              "    }\n",
              "\n",
              "    .colab-df-convert {\n",
              "      background-color: #E8F0FE;\n",
              "      border: none;\n",
              "      border-radius: 50%;\n",
              "      cursor: pointer;\n",
              "      display: none;\n",
              "      fill: #1967D2;\n",
              "      height: 32px;\n",
              "      padding: 0 0 0 0;\n",
              "      width: 32px;\n",
              "    }\n",
              "\n",
              "    .colab-df-convert:hover {\n",
              "      background-color: #E2EBFA;\n",
              "      box-shadow: 0px 1px 2px rgba(60, 64, 67, 0.3), 0px 1px 3px 1px rgba(60, 64, 67, 0.15);\n",
              "      fill: #174EA6;\n",
              "    }\n",
              "\n",
              "    .colab-df-buttons div {\n",
              "      margin-bottom: 4px;\n",
              "    }\n",
              "\n",
              "    [theme=dark] .colab-df-convert {\n",
              "      background-color: #3B4455;\n",
              "      fill: #D2E3FC;\n",
              "    }\n",
              "\n",
              "    [theme=dark] .colab-df-convert:hover {\n",
              "      background-color: #434B5C;\n",
              "      box-shadow: 0px 1px 3px 1px rgba(0, 0, 0, 0.15);\n",
              "      filter: drop-shadow(0px 1px 2px rgba(0, 0, 0, 0.3));\n",
              "      fill: #FFFFFF;\n",
              "    }\n",
              "  </style>\n",
              "\n",
              "    <script>\n",
              "      const buttonEl =\n",
              "        document.querySelector('#df-6e7ecaf0-0952-4694-965f-fd5eae086136 button.colab-df-convert');\n",
              "      buttonEl.style.display =\n",
              "        google.colab.kernel.accessAllowed ? 'block' : 'none';\n",
              "\n",
              "      async function convertToInteractive(key) {\n",
              "        const element = document.querySelector('#df-6e7ecaf0-0952-4694-965f-fd5eae086136');\n",
              "        const dataTable =\n",
              "          await google.colab.kernel.invokeFunction('convertToInteractive',\n",
              "                                                    [key], {});\n",
              "        if (!dataTable) return;\n",
              "\n",
              "        const docLinkHtml = 'Like what you see? Visit the ' +\n",
              "          '<a target=\"_blank\" href=https://colab.research.google.com/notebooks/data_table.ipynb>data table notebook</a>'\n",
              "          + ' to learn more about interactive tables.';\n",
              "        element.innerHTML = '';\n",
              "        dataTable['output_type'] = 'display_data';\n",
              "        await google.colab.output.renderOutput(dataTable, element);\n",
              "        const docLink = document.createElement('div');\n",
              "        docLink.innerHTML = docLinkHtml;\n",
              "        element.appendChild(docLink);\n",
              "      }\n",
              "    </script>\n",
              "  </div>\n",
              "\n",
              "\n",
              "<div id=\"df-e8400352-7a6e-4415-8c32-24092c9d4710\">\n",
              "  <button class=\"colab-df-quickchart\" onclick=\"quickchart('df-e8400352-7a6e-4415-8c32-24092c9d4710')\"\n",
              "            title=\"Suggest charts\"\n",
              "            style=\"display:none;\">\n",
              "\n",
              "<svg xmlns=\"http://www.w3.org/2000/svg\" height=\"24px\"viewBox=\"0 0 24 24\"\n",
              "     width=\"24px\">\n",
              "    <g>\n",
              "        <path d=\"M19 3H5c-1.1 0-2 .9-2 2v14c0 1.1.9 2 2 2h14c1.1 0 2-.9 2-2V5c0-1.1-.9-2-2-2zM9 17H7v-7h2v7zm4 0h-2V7h2v10zm4 0h-2v-4h2v4z\"/>\n",
              "    </g>\n",
              "</svg>\n",
              "  </button>\n",
              "\n",
              "<style>\n",
              "  .colab-df-quickchart {\n",
              "      --bg-color: #E8F0FE;\n",
              "      --fill-color: #1967D2;\n",
              "      --hover-bg-color: #E2EBFA;\n",
              "      --hover-fill-color: #174EA6;\n",
              "      --disabled-fill-color: #AAA;\n",
              "      --disabled-bg-color: #DDD;\n",
              "  }\n",
              "\n",
              "  [theme=dark] .colab-df-quickchart {\n",
              "      --bg-color: #3B4455;\n",
              "      --fill-color: #D2E3FC;\n",
              "      --hover-bg-color: #434B5C;\n",
              "      --hover-fill-color: #FFFFFF;\n",
              "      --disabled-bg-color: #3B4455;\n",
              "      --disabled-fill-color: #666;\n",
              "  }\n",
              "\n",
              "  .colab-df-quickchart {\n",
              "    background-color: var(--bg-color);\n",
              "    border: none;\n",
              "    border-radius: 50%;\n",
              "    cursor: pointer;\n",
              "    display: none;\n",
              "    fill: var(--fill-color);\n",
              "    height: 32px;\n",
              "    padding: 0;\n",
              "    width: 32px;\n",
              "  }\n",
              "\n",
              "  .colab-df-quickchart:hover {\n",
              "    background-color: var(--hover-bg-color);\n",
              "    box-shadow: 0 1px 2px rgba(60, 64, 67, 0.3), 0 1px 3px 1px rgba(60, 64, 67, 0.15);\n",
              "    fill: var(--button-hover-fill-color);\n",
              "  }\n",
              "\n",
              "  .colab-df-quickchart-complete:disabled,\n",
              "  .colab-df-quickchart-complete:disabled:hover {\n",
              "    background-color: var(--disabled-bg-color);\n",
              "    fill: var(--disabled-fill-color);\n",
              "    box-shadow: none;\n",
              "  }\n",
              "\n",
              "  .colab-df-spinner {\n",
              "    border: 2px solid var(--fill-color);\n",
              "    border-color: transparent;\n",
              "    border-bottom-color: var(--fill-color);\n",
              "    animation:\n",
              "      spin 1s steps(1) infinite;\n",
              "  }\n",
              "\n",
              "  @keyframes spin {\n",
              "    0% {\n",
              "      border-color: transparent;\n",
              "      border-bottom-color: var(--fill-color);\n",
              "      border-left-color: var(--fill-color);\n",
              "    }\n",
              "    20% {\n",
              "      border-color: transparent;\n",
              "      border-left-color: var(--fill-color);\n",
              "      border-top-color: var(--fill-color);\n",
              "    }\n",
              "    30% {\n",
              "      border-color: transparent;\n",
              "      border-left-color: var(--fill-color);\n",
              "      border-top-color: var(--fill-color);\n",
              "      border-right-color: var(--fill-color);\n",
              "    }\n",
              "    40% {\n",
              "      border-color: transparent;\n",
              "      border-right-color: var(--fill-color);\n",
              "      border-top-color: var(--fill-color);\n",
              "    }\n",
              "    60% {\n",
              "      border-color: transparent;\n",
              "      border-right-color: var(--fill-color);\n",
              "    }\n",
              "    80% {\n",
              "      border-color: transparent;\n",
              "      border-right-color: var(--fill-color);\n",
              "      border-bottom-color: var(--fill-color);\n",
              "    }\n",
              "    90% {\n",
              "      border-color: transparent;\n",
              "      border-bottom-color: var(--fill-color);\n",
              "    }\n",
              "  }\n",
              "</style>\n",
              "\n",
              "  <script>\n",
              "    async function quickchart(key) {\n",
              "      const quickchartButtonEl =\n",
              "        document.querySelector('#' + key + ' button');\n",
              "      quickchartButtonEl.disabled = true;  // To prevent multiple clicks.\n",
              "      quickchartButtonEl.classList.add('colab-df-spinner');\n",
              "      try {\n",
              "        const charts = await google.colab.kernel.invokeFunction(\n",
              "            'suggestCharts', [key], {});\n",
              "      } catch (error) {\n",
              "        console.error('Error during call to suggestCharts:', error);\n",
              "      }\n",
              "      quickchartButtonEl.classList.remove('colab-df-spinner');\n",
              "      quickchartButtonEl.classList.add('colab-df-quickchart-complete');\n",
              "    }\n",
              "    (() => {\n",
              "      let quickchartButtonEl =\n",
              "        document.querySelector('#df-e8400352-7a6e-4415-8c32-24092c9d4710 button');\n",
              "      quickchartButtonEl.style.display =\n",
              "        google.colab.kernel.accessAllowed ? 'block' : 'none';\n",
              "    })();\n",
              "  </script>\n",
              "</div>\n",
              "    </div>\n",
              "  </div>\n"
            ],
            "application/vnd.google.colaboratory.intrinsic+json": {
              "type": "dataframe",
              "variable_name": "data"
            }
          },
          "metadata": {},
          "execution_count": 2
        }
      ]
    },
    {
      "cell_type": "code",
      "source": [
        "data.columns\n"
      ],
      "metadata": {
        "colab": {
          "base_uri": "https://localhost:8080/"
        },
        "id": "wJ53_OL4qsW4",
        "outputId": "4f8588bd-75d9-4fdc-ab9b-09370359ef25"
      },
      "execution_count": null,
      "outputs": [
        {
          "output_type": "execute_result",
          "data": {
            "text/plain": [
              "Index(['id', 'listing_url', 'scrape_id', 'last_scraped', 'source',\n",
              "       'picture_url', 'host_id', 'host_url', 'host_name', 'host_since',\n",
              "       'host_location', 'host_about', 'host_response_time',\n",
              "       'host_response_rate', 'host_acceptance_rate', 'host_is_superhost',\n",
              "       'host_thumbnail_url', 'host_picture_url', 'host_neighbourhood',\n",
              "       'host_listings_count', 'host_total_listings_count',\n",
              "       'host_verifications', 'host_has_profile_pic', 'host_identity_verified',\n",
              "       'neighbourhood', 'neighbourhood_cleansed', 'latitude', 'longitude',\n",
              "       'property_type', 'room_type', 'accommodates', 'bathrooms_text', 'beds',\n",
              "       'amenities', 'price', 'minimum_nights', 'maximum_nights',\n",
              "       'minimum_minimum_nights', 'maximum_minimum_nights',\n",
              "       'minimum_maximum_nights', 'maximum_maximum_nights',\n",
              "       'minimum_nights_avg_ntm', 'maximum_nights_avg_ntm', 'has_availability',\n",
              "       'availability_30', 'availability_60', 'availability_90',\n",
              "       'availability_365', 'calendar_last_scraped', 'number_of_reviews',\n",
              "       'number_of_reviews_ltm', 'number_of_reviews_l30d', 'first_review',\n",
              "       'last_review', 'review_scores_rating', 'review_scores_accuracy',\n",
              "       'review_scores_cleanliness', 'review_scores_checkin',\n",
              "       'review_scores_communication', 'review_scores_location',\n",
              "       'review_scores_value', 'license', 'instant_bookable',\n",
              "       'calculated_host_listings_count',\n",
              "       'calculated_host_listings_count_entire_homes',\n",
              "       'calculated_host_listings_count_private_rooms',\n",
              "       'calculated_host_listings_count_shared_rooms', 'reviews_per_month'],\n",
              "      dtype='object')"
            ]
          },
          "metadata": {},
          "execution_count": 3
        }
      ]
    },
    {
      "cell_type": "code",
      "source": [
        "cols = [\n",
        "    \"host_response_rate\",\n",
        "    \"host_acceptance_rate\",\n",
        "    \"host_is_superhost\",\n",
        "    \"host_listings_count\",\n",
        "    \"host_has_profile_pic\",\n",
        "    \"host_identity_verified\",\n",
        "    \"neighbourhood_cleansed\",\n",
        "    \"property_type\",\n",
        "    \"accommodates\",\n",
        "    \"beds\",\n",
        "    \"number_of_reviews\",\n",
        "    \"minimum_nights\",\n",
        "    \"maximum_nights\",\n",
        "    \"picture_url\",\n",
        "    \"price\"\n",
        "]\n",
        "\n",
        "data = data[cols]\n",
        "data = data.dropna()\n",
        "data.shape"
      ],
      "metadata": {
        "colab": {
          "base_uri": "https://localhost:8080/"
        },
        "id": "EDLabEfv4SlD",
        "outputId": "52c1d8df-7a82-4c8c-86b2-16829a160514"
      },
      "execution_count": null,
      "outputs": [
        {
          "output_type": "execute_result",
          "data": {
            "text/plain": [
              "(6449, 15)"
            ]
          },
          "metadata": {},
          "execution_count": 4
        }
      ]
    },
    {
      "cell_type": "code",
      "source": [
        "# Elimina el símbolo \"$\" y las comas de la columna 'price', luego convierte los valores a formato numérico\n",
        "data['price'] = data['price'].str.replace('$', '').str.replace(',', '').astype(float)\n"
      ],
      "metadata": {
        "id": "AFAG-y4na1Ou"
      },
      "execution_count": null,
      "outputs": []
    },
    {
      "cell_type": "code",
      "source": [
        "# Muestra las primeras filas del DataFrame después de la modificación\n",
        "print(data['price'].head())"
      ],
      "metadata": {
        "colab": {
          "base_uri": "https://localhost:8080/"
        },
        "id": "514CSmSHcCO0",
        "outputId": "4315770b-f06b-40cb-c2d9-7bfa7ca3a680"
      },
      "execution_count": null,
      "outputs": [
        {
          "output_type": "stream",
          "name": "stdout",
          "text": [
            "0    125.0\n",
            "1    135.0\n",
            "2    179.0\n",
            "3     91.0\n",
            "4     86.0\n",
            "Name: price, dtype: float64\n"
          ]
        }
      ]
    },
    {
      "cell_type": "markdown",
      "source": [
        "## Descarga de imágenes"
      ],
      "metadata": {
        "id": "wLV1Sqm-ZUO3"
      }
    },
    {
      "cell_type": "code",
      "source": [
        "def download_images(paths: list,\n",
        "                    canvas: tuple = (224, 224),\n",
        "                    nb_channels: int = 3,\n",
        "                    max_imgs: Optional[int] = None\n",
        "                    ) -> tuple:\n",
        "  \"\"\" Download a list of images from url adresses, converting them to a specific\n",
        "  canvas size.\n",
        "\n",
        "  Args:\n",
        "    paths: Paths or url adresses from which to load images.\n",
        "    canvas: Desired image width and height.\n",
        "    nb_channels: Channels in images (1 for B/W, 3 for RGB).\n",
        "    max_imgs: Upper threshold in the number of images to download.\n",
        "\n",
        "  Return:\n",
        "    a tuple of:\n",
        "      - image values\n",
        "      - indices within the paths that were successfull.\n",
        "\n",
        "  \"\"\"\n",
        "  n_images = len(paths) if not max_imgs else max_imgs\n",
        "  images = numpy.zeros((n_images, canvas[0], canvas[1], nb_channels),\n",
        "                       dtype=numpy.uint8)\n",
        "  downloaded_idxs = []\n",
        "\n",
        "  for i_img, url in enumerate(tqdm(paths, total=n_images)):\n",
        "    if i_img >= n_images:\n",
        "      break\n",
        "    try:\n",
        "        img = io.imread(url)\n",
        "        img = cv2.resize(img, (canvas[0], canvas[1]))\n",
        "        downloaded_idxs.append(i_img)\n",
        "        images[i_img] = img\n",
        "    except:  # Unavailable url / conversion error\n",
        "        pass\n",
        "  return images[downloaded_idxs], downloaded_idxs"
      ],
      "metadata": {
        "id": "PYU6JbCqZWJV"
      },
      "execution_count": null,
      "outputs": []
    },
    {
      "cell_type": "markdown",
      "source": [
        "Normalización y conversión en el rango [0, 1]"
      ],
      "metadata": {
        "id": "W59EsC6XlPQ0"
      }
    },
    {
      "cell_type": "code",
      "source": [
        "images, idxs = download_images(data['picture_url'])\n",
        "images = images.astype(\"float32\") / 255.\n",
        "images.shape"
      ],
      "metadata": {
        "colab": {
          "base_uri": "https://localhost:8080/"
        },
        "id": "RdTh_y_tlUPm",
        "outputId": "253d84b5-cdd5-436c-edca-b7658d28d51b"
      },
      "execution_count": null,
      "outputs": [
        {
          "output_type": "stream",
          "name": "stderr",
          "text": [
            "100%|██████████| 6449/6449 [28:48<00:00,  3.73it/s]\n"
          ]
        },
        {
          "output_type": "execute_result",
          "data": {
            "text/plain": [
              "(5717, 224, 224, 3)"
            ]
          },
          "metadata": {},
          "execution_count": 8
        }
      ]
    },
    {
      "cell_type": "markdown",
      "source": [
        "Filtrado acorde en los demás datos"
      ],
      "metadata": {
        "id": "Aymj_cVHlbvF"
      }
    },
    {
      "cell_type": "code",
      "source": [
        "# ¿De qué variables disponemos?\n",
        "data.columns"
      ],
      "metadata": {
        "colab": {
          "base_uri": "https://localhost:8080/"
        },
        "id": "GiywEJeHZDQf",
        "outputId": "f238b00f-089b-48fd-f0cb-30c857346c82"
      },
      "execution_count": null,
      "outputs": [
        {
          "output_type": "execute_result",
          "data": {
            "text/plain": [
              "Index(['host_response_rate', 'host_acceptance_rate', 'host_is_superhost',\n",
              "       'host_listings_count', 'host_has_profile_pic', 'host_identity_verified',\n",
              "       'neighbourhood_cleansed', 'property_type', 'accommodates', 'beds',\n",
              "       'number_of_reviews', 'minimum_nights', 'maximum_nights', 'picture_url',\n",
              "       'price'],\n",
              "      dtype='object')"
            ]
          },
          "metadata": {},
          "execution_count": 9
        }
      ]
    },
    {
      "cell_type": "code",
      "source": [
        "filtered_data = data.iloc[idxs]\n",
        "filtered_data"
      ],
      "metadata": {
        "colab": {
          "base_uri": "https://localhost:8080/",
          "height": 600
        },
        "id": "yp3-EbGUldXh",
        "outputId": "cb7beace-746b-4433-8e61-a27b87be542b"
      },
      "execution_count": null,
      "outputs": [
        {
          "output_type": "execute_result",
          "data": {
            "text/plain": [
              "     host_response_rate host_acceptance_rate host_is_superhost  \\\n",
              "0                   90%                  29%                 t   \n",
              "1                  100%                 100%                 t   \n",
              "2                  100%                 100%                 t   \n",
              "3                   90%                  50%                 t   \n",
              "4                   98%                  46%                 f   \n",
              "...                 ...                  ...               ...   \n",
              "7194               100%                  98%                 f   \n",
              "7195               100%                  98%                 f   \n",
              "7196                94%                 100%                 f   \n",
              "7197               100%                  98%                 f   \n",
              "7198               100%                  99%                 f   \n",
              "\n",
              "      host_listings_count host_has_profile_pic host_identity_verified  \\\n",
              "0                       4                    t                      f   \n",
              "1                      11                    t                      t   \n",
              "2                      11                    t                      t   \n",
              "3                      13                    t                      t   \n",
              "4                      19                    t                      t   \n",
              "...                   ...                  ...                    ...   \n",
              "7194                   81                    t                      t   \n",
              "7195                   81                    t                      t   \n",
              "7196                    8                    t                      f   \n",
              "7197                   81                    t                      t   \n",
              "7198                    6                    t                      f   \n",
              "\n",
              "     neighbourhood_cleansed       property_type  accommodates  beds  \\\n",
              "0               East Boston  Entire rental unit             2   1.0   \n",
              "1                   Roxbury  Entire guest suite             2   1.0   \n",
              "2                   Roxbury        Entire condo             4   2.0   \n",
              "3               Beacon Hill  Entire rental unit             2   1.0   \n",
              "4                  Back Bay  Entire rental unit             2   1.0   \n",
              "...                     ...                 ...           ...   ...   \n",
              "7194             Dorchester  Entire rental unit             5   3.0   \n",
              "7195               Downtown  Entire rental unit             6   3.0   \n",
              "7196                 Fenway  Entire rental unit             3   2.0   \n",
              "7197             Dorchester  Entire rental unit             5   3.0   \n",
              "7198                Roxbury  Entire rental unit             3   1.0   \n",
              "\n",
              "      number_of_reviews  minimum_nights  maximum_nights  \\\n",
              "0                    24              29            1125   \n",
              "1                   122               3              90   \n",
              "2                   127               3             730   \n",
              "3                    27              91             365   \n",
              "4                     5              32            1125   \n",
              "...                 ...             ...             ...   \n",
              "7194                  1               1             365   \n",
              "7195                  0               1             365   \n",
              "7196                  0               1             365   \n",
              "7197                  0               1             365   \n",
              "7198                  0               2             365   \n",
              "\n",
              "                                            picture_url  price  \n",
              "0     https://a0.muscache.com/pictures/24670/b2de044...  125.0  \n",
              "1     https://a0.muscache.com/pictures/miso/Hosting-...  135.0  \n",
              "2     https://a0.muscache.com/pictures/38ac4797-e7a4...  179.0  \n",
              "3     https://a0.muscache.com/pictures/miso/Hosting-...   91.0  \n",
              "4     https://a0.muscache.com/pictures/20b5b9c9-e1f4...   86.0  \n",
              "...                                                 ...    ...  \n",
              "7194  https://a0.muscache.com/pictures/prohost-api/H...   83.0  \n",
              "7195  https://a0.muscache.com/pictures/prohost-api/H...  107.0  \n",
              "7196  https://a0.muscache.com/pictures/miso/Hosting-...  136.0  \n",
              "7197  https://a0.muscache.com/pictures/prohost-api/H...   83.0  \n",
              "7198  https://a0.muscache.com/pictures/e53f88a5-f860...  106.0  \n",
              "\n",
              "[5717 rows x 15 columns]"
            ],
            "text/html": [
              "\n",
              "  <div id=\"df-83ad68eb-495e-4f50-8e0e-44ec72b5ae76\" class=\"colab-df-container\">\n",
              "    <div>\n",
              "<style scoped>\n",
              "    .dataframe tbody tr th:only-of-type {\n",
              "        vertical-align: middle;\n",
              "    }\n",
              "\n",
              "    .dataframe tbody tr th {\n",
              "        vertical-align: top;\n",
              "    }\n",
              "\n",
              "    .dataframe thead th {\n",
              "        text-align: right;\n",
              "    }\n",
              "</style>\n",
              "<table border=\"1\" class=\"dataframe\">\n",
              "  <thead>\n",
              "    <tr style=\"text-align: right;\">\n",
              "      <th></th>\n",
              "      <th>host_response_rate</th>\n",
              "      <th>host_acceptance_rate</th>\n",
              "      <th>host_is_superhost</th>\n",
              "      <th>host_listings_count</th>\n",
              "      <th>host_has_profile_pic</th>\n",
              "      <th>host_identity_verified</th>\n",
              "      <th>neighbourhood_cleansed</th>\n",
              "      <th>property_type</th>\n",
              "      <th>accommodates</th>\n",
              "      <th>beds</th>\n",
              "      <th>number_of_reviews</th>\n",
              "      <th>minimum_nights</th>\n",
              "      <th>maximum_nights</th>\n",
              "      <th>picture_url</th>\n",
              "      <th>price</th>\n",
              "    </tr>\n",
              "  </thead>\n",
              "  <tbody>\n",
              "    <tr>\n",
              "      <th>0</th>\n",
              "      <td>90%</td>\n",
              "      <td>29%</td>\n",
              "      <td>t</td>\n",
              "      <td>4</td>\n",
              "      <td>t</td>\n",
              "      <td>f</td>\n",
              "      <td>East Boston</td>\n",
              "      <td>Entire rental unit</td>\n",
              "      <td>2</td>\n",
              "      <td>1.0</td>\n",
              "      <td>24</td>\n",
              "      <td>29</td>\n",
              "      <td>1125</td>\n",
              "      <td>https://a0.muscache.com/pictures/24670/b2de044...</td>\n",
              "      <td>125.0</td>\n",
              "    </tr>\n",
              "    <tr>\n",
              "      <th>1</th>\n",
              "      <td>100%</td>\n",
              "      <td>100%</td>\n",
              "      <td>t</td>\n",
              "      <td>11</td>\n",
              "      <td>t</td>\n",
              "      <td>t</td>\n",
              "      <td>Roxbury</td>\n",
              "      <td>Entire guest suite</td>\n",
              "      <td>2</td>\n",
              "      <td>1.0</td>\n",
              "      <td>122</td>\n",
              "      <td>3</td>\n",
              "      <td>90</td>\n",
              "      <td>https://a0.muscache.com/pictures/miso/Hosting-...</td>\n",
              "      <td>135.0</td>\n",
              "    </tr>\n",
              "    <tr>\n",
              "      <th>2</th>\n",
              "      <td>100%</td>\n",
              "      <td>100%</td>\n",
              "      <td>t</td>\n",
              "      <td>11</td>\n",
              "      <td>t</td>\n",
              "      <td>t</td>\n",
              "      <td>Roxbury</td>\n",
              "      <td>Entire condo</td>\n",
              "      <td>4</td>\n",
              "      <td>2.0</td>\n",
              "      <td>127</td>\n",
              "      <td>3</td>\n",
              "      <td>730</td>\n",
              "      <td>https://a0.muscache.com/pictures/38ac4797-e7a4...</td>\n",
              "      <td>179.0</td>\n",
              "    </tr>\n",
              "    <tr>\n",
              "      <th>3</th>\n",
              "      <td>90%</td>\n",
              "      <td>50%</td>\n",
              "      <td>t</td>\n",
              "      <td>13</td>\n",
              "      <td>t</td>\n",
              "      <td>t</td>\n",
              "      <td>Beacon Hill</td>\n",
              "      <td>Entire rental unit</td>\n",
              "      <td>2</td>\n",
              "      <td>1.0</td>\n",
              "      <td>27</td>\n",
              "      <td>91</td>\n",
              "      <td>365</td>\n",
              "      <td>https://a0.muscache.com/pictures/miso/Hosting-...</td>\n",
              "      <td>91.0</td>\n",
              "    </tr>\n",
              "    <tr>\n",
              "      <th>4</th>\n",
              "      <td>98%</td>\n",
              "      <td>46%</td>\n",
              "      <td>f</td>\n",
              "      <td>19</td>\n",
              "      <td>t</td>\n",
              "      <td>t</td>\n",
              "      <td>Back Bay</td>\n",
              "      <td>Entire rental unit</td>\n",
              "      <td>2</td>\n",
              "      <td>1.0</td>\n",
              "      <td>5</td>\n",
              "      <td>32</td>\n",
              "      <td>1125</td>\n",
              "      <td>https://a0.muscache.com/pictures/20b5b9c9-e1f4...</td>\n",
              "      <td>86.0</td>\n",
              "    </tr>\n",
              "    <tr>\n",
              "      <th>...</th>\n",
              "      <td>...</td>\n",
              "      <td>...</td>\n",
              "      <td>...</td>\n",
              "      <td>...</td>\n",
              "      <td>...</td>\n",
              "      <td>...</td>\n",
              "      <td>...</td>\n",
              "      <td>...</td>\n",
              "      <td>...</td>\n",
              "      <td>...</td>\n",
              "      <td>...</td>\n",
              "      <td>...</td>\n",
              "      <td>...</td>\n",
              "      <td>...</td>\n",
              "      <td>...</td>\n",
              "    </tr>\n",
              "    <tr>\n",
              "      <th>7194</th>\n",
              "      <td>100%</td>\n",
              "      <td>98%</td>\n",
              "      <td>f</td>\n",
              "      <td>81</td>\n",
              "      <td>t</td>\n",
              "      <td>t</td>\n",
              "      <td>Dorchester</td>\n",
              "      <td>Entire rental unit</td>\n",
              "      <td>5</td>\n",
              "      <td>3.0</td>\n",
              "      <td>1</td>\n",
              "      <td>1</td>\n",
              "      <td>365</td>\n",
              "      <td>https://a0.muscache.com/pictures/prohost-api/H...</td>\n",
              "      <td>83.0</td>\n",
              "    </tr>\n",
              "    <tr>\n",
              "      <th>7195</th>\n",
              "      <td>100%</td>\n",
              "      <td>98%</td>\n",
              "      <td>f</td>\n",
              "      <td>81</td>\n",
              "      <td>t</td>\n",
              "      <td>t</td>\n",
              "      <td>Downtown</td>\n",
              "      <td>Entire rental unit</td>\n",
              "      <td>6</td>\n",
              "      <td>3.0</td>\n",
              "      <td>0</td>\n",
              "      <td>1</td>\n",
              "      <td>365</td>\n",
              "      <td>https://a0.muscache.com/pictures/prohost-api/H...</td>\n",
              "      <td>107.0</td>\n",
              "    </tr>\n",
              "    <tr>\n",
              "      <th>7196</th>\n",
              "      <td>94%</td>\n",
              "      <td>100%</td>\n",
              "      <td>f</td>\n",
              "      <td>8</td>\n",
              "      <td>t</td>\n",
              "      <td>f</td>\n",
              "      <td>Fenway</td>\n",
              "      <td>Entire rental unit</td>\n",
              "      <td>3</td>\n",
              "      <td>2.0</td>\n",
              "      <td>0</td>\n",
              "      <td>1</td>\n",
              "      <td>365</td>\n",
              "      <td>https://a0.muscache.com/pictures/miso/Hosting-...</td>\n",
              "      <td>136.0</td>\n",
              "    </tr>\n",
              "    <tr>\n",
              "      <th>7197</th>\n",
              "      <td>100%</td>\n",
              "      <td>98%</td>\n",
              "      <td>f</td>\n",
              "      <td>81</td>\n",
              "      <td>t</td>\n",
              "      <td>t</td>\n",
              "      <td>Dorchester</td>\n",
              "      <td>Entire rental unit</td>\n",
              "      <td>5</td>\n",
              "      <td>3.0</td>\n",
              "      <td>0</td>\n",
              "      <td>1</td>\n",
              "      <td>365</td>\n",
              "      <td>https://a0.muscache.com/pictures/prohost-api/H...</td>\n",
              "      <td>83.0</td>\n",
              "    </tr>\n",
              "    <tr>\n",
              "      <th>7198</th>\n",
              "      <td>100%</td>\n",
              "      <td>99%</td>\n",
              "      <td>f</td>\n",
              "      <td>6</td>\n",
              "      <td>t</td>\n",
              "      <td>f</td>\n",
              "      <td>Roxbury</td>\n",
              "      <td>Entire rental unit</td>\n",
              "      <td>3</td>\n",
              "      <td>1.0</td>\n",
              "      <td>0</td>\n",
              "      <td>2</td>\n",
              "      <td>365</td>\n",
              "      <td>https://a0.muscache.com/pictures/e53f88a5-f860...</td>\n",
              "      <td>106.0</td>\n",
              "    </tr>\n",
              "  </tbody>\n",
              "</table>\n",
              "<p>5717 rows × 15 columns</p>\n",
              "</div>\n",
              "    <div class=\"colab-df-buttons\">\n",
              "\n",
              "  <div class=\"colab-df-container\">\n",
              "    <button class=\"colab-df-convert\" onclick=\"convertToInteractive('df-83ad68eb-495e-4f50-8e0e-44ec72b5ae76')\"\n",
              "            title=\"Convert this dataframe to an interactive table.\"\n",
              "            style=\"display:none;\">\n",
              "\n",
              "  <svg xmlns=\"http://www.w3.org/2000/svg\" height=\"24px\" viewBox=\"0 -960 960 960\">\n",
              "    <path d=\"M120-120v-720h720v720H120Zm60-500h600v-160H180v160Zm220 220h160v-160H400v160Zm0 220h160v-160H400v160ZM180-400h160v-160H180v160Zm440 0h160v-160H620v160ZM180-180h160v-160H180v160Zm440 0h160v-160H620v160Z\"/>\n",
              "  </svg>\n",
              "    </button>\n",
              "\n",
              "  <style>\n",
              "    .colab-df-container {\n",
              "      display:flex;\n",
              "      gap: 12px;\n",
              "    }\n",
              "\n",
              "    .colab-df-convert {\n",
              "      background-color: #E8F0FE;\n",
              "      border: none;\n",
              "      border-radius: 50%;\n",
              "      cursor: pointer;\n",
              "      display: none;\n",
              "      fill: #1967D2;\n",
              "      height: 32px;\n",
              "      padding: 0 0 0 0;\n",
              "      width: 32px;\n",
              "    }\n",
              "\n",
              "    .colab-df-convert:hover {\n",
              "      background-color: #E2EBFA;\n",
              "      box-shadow: 0px 1px 2px rgba(60, 64, 67, 0.3), 0px 1px 3px 1px rgba(60, 64, 67, 0.15);\n",
              "      fill: #174EA6;\n",
              "    }\n",
              "\n",
              "    .colab-df-buttons div {\n",
              "      margin-bottom: 4px;\n",
              "    }\n",
              "\n",
              "    [theme=dark] .colab-df-convert {\n",
              "      background-color: #3B4455;\n",
              "      fill: #D2E3FC;\n",
              "    }\n",
              "\n",
              "    [theme=dark] .colab-df-convert:hover {\n",
              "      background-color: #434B5C;\n",
              "      box-shadow: 0px 1px 3px 1px rgba(0, 0, 0, 0.15);\n",
              "      filter: drop-shadow(0px 1px 2px rgba(0, 0, 0, 0.3));\n",
              "      fill: #FFFFFF;\n",
              "    }\n",
              "  </style>\n",
              "\n",
              "    <script>\n",
              "      const buttonEl =\n",
              "        document.querySelector('#df-83ad68eb-495e-4f50-8e0e-44ec72b5ae76 button.colab-df-convert');\n",
              "      buttonEl.style.display =\n",
              "        google.colab.kernel.accessAllowed ? 'block' : 'none';\n",
              "\n",
              "      async function convertToInteractive(key) {\n",
              "        const element = document.querySelector('#df-83ad68eb-495e-4f50-8e0e-44ec72b5ae76');\n",
              "        const dataTable =\n",
              "          await google.colab.kernel.invokeFunction('convertToInteractive',\n",
              "                                                    [key], {});\n",
              "        if (!dataTable) return;\n",
              "\n",
              "        const docLinkHtml = 'Like what you see? Visit the ' +\n",
              "          '<a target=\"_blank\" href=https://colab.research.google.com/notebooks/data_table.ipynb>data table notebook</a>'\n",
              "          + ' to learn more about interactive tables.';\n",
              "        element.innerHTML = '';\n",
              "        dataTable['output_type'] = 'display_data';\n",
              "        await google.colab.output.renderOutput(dataTable, element);\n",
              "        const docLink = document.createElement('div');\n",
              "        docLink.innerHTML = docLinkHtml;\n",
              "        element.appendChild(docLink);\n",
              "      }\n",
              "    </script>\n",
              "  </div>\n",
              "\n",
              "\n",
              "<div id=\"df-16057df1-38c3-4cff-a5cf-375ed91db4d0\">\n",
              "  <button class=\"colab-df-quickchart\" onclick=\"quickchart('df-16057df1-38c3-4cff-a5cf-375ed91db4d0')\"\n",
              "            title=\"Suggest charts\"\n",
              "            style=\"display:none;\">\n",
              "\n",
              "<svg xmlns=\"http://www.w3.org/2000/svg\" height=\"24px\"viewBox=\"0 0 24 24\"\n",
              "     width=\"24px\">\n",
              "    <g>\n",
              "        <path d=\"M19 3H5c-1.1 0-2 .9-2 2v14c0 1.1.9 2 2 2h14c1.1 0 2-.9 2-2V5c0-1.1-.9-2-2-2zM9 17H7v-7h2v7zm4 0h-2V7h2v10zm4 0h-2v-4h2v4z\"/>\n",
              "    </g>\n",
              "</svg>\n",
              "  </button>\n",
              "\n",
              "<style>\n",
              "  .colab-df-quickchart {\n",
              "      --bg-color: #E8F0FE;\n",
              "      --fill-color: #1967D2;\n",
              "      --hover-bg-color: #E2EBFA;\n",
              "      --hover-fill-color: #174EA6;\n",
              "      --disabled-fill-color: #AAA;\n",
              "      --disabled-bg-color: #DDD;\n",
              "  }\n",
              "\n",
              "  [theme=dark] .colab-df-quickchart {\n",
              "      --bg-color: #3B4455;\n",
              "      --fill-color: #D2E3FC;\n",
              "      --hover-bg-color: #434B5C;\n",
              "      --hover-fill-color: #FFFFFF;\n",
              "      --disabled-bg-color: #3B4455;\n",
              "      --disabled-fill-color: #666;\n",
              "  }\n",
              "\n",
              "  .colab-df-quickchart {\n",
              "    background-color: var(--bg-color);\n",
              "    border: none;\n",
              "    border-radius: 50%;\n",
              "    cursor: pointer;\n",
              "    display: none;\n",
              "    fill: var(--fill-color);\n",
              "    height: 32px;\n",
              "    padding: 0;\n",
              "    width: 32px;\n",
              "  }\n",
              "\n",
              "  .colab-df-quickchart:hover {\n",
              "    background-color: var(--hover-bg-color);\n",
              "    box-shadow: 0 1px 2px rgba(60, 64, 67, 0.3), 0 1px 3px 1px rgba(60, 64, 67, 0.15);\n",
              "    fill: var(--button-hover-fill-color);\n",
              "  }\n",
              "\n",
              "  .colab-df-quickchart-complete:disabled,\n",
              "  .colab-df-quickchart-complete:disabled:hover {\n",
              "    background-color: var(--disabled-bg-color);\n",
              "    fill: var(--disabled-fill-color);\n",
              "    box-shadow: none;\n",
              "  }\n",
              "\n",
              "  .colab-df-spinner {\n",
              "    border: 2px solid var(--fill-color);\n",
              "    border-color: transparent;\n",
              "    border-bottom-color: var(--fill-color);\n",
              "    animation:\n",
              "      spin 1s steps(1) infinite;\n",
              "  }\n",
              "\n",
              "  @keyframes spin {\n",
              "    0% {\n",
              "      border-color: transparent;\n",
              "      border-bottom-color: var(--fill-color);\n",
              "      border-left-color: var(--fill-color);\n",
              "    }\n",
              "    20% {\n",
              "      border-color: transparent;\n",
              "      border-left-color: var(--fill-color);\n",
              "      border-top-color: var(--fill-color);\n",
              "    }\n",
              "    30% {\n",
              "      border-color: transparent;\n",
              "      border-left-color: var(--fill-color);\n",
              "      border-top-color: var(--fill-color);\n",
              "      border-right-color: var(--fill-color);\n",
              "    }\n",
              "    40% {\n",
              "      border-color: transparent;\n",
              "      border-right-color: var(--fill-color);\n",
              "      border-top-color: var(--fill-color);\n",
              "    }\n",
              "    60% {\n",
              "      border-color: transparent;\n",
              "      border-right-color: var(--fill-color);\n",
              "    }\n",
              "    80% {\n",
              "      border-color: transparent;\n",
              "      border-right-color: var(--fill-color);\n",
              "      border-bottom-color: var(--fill-color);\n",
              "    }\n",
              "    90% {\n",
              "      border-color: transparent;\n",
              "      border-bottom-color: var(--fill-color);\n",
              "    }\n",
              "  }\n",
              "</style>\n",
              "\n",
              "  <script>\n",
              "    async function quickchart(key) {\n",
              "      const quickchartButtonEl =\n",
              "        document.querySelector('#' + key + ' button');\n",
              "      quickchartButtonEl.disabled = true;  // To prevent multiple clicks.\n",
              "      quickchartButtonEl.classList.add('colab-df-spinner');\n",
              "      try {\n",
              "        const charts = await google.colab.kernel.invokeFunction(\n",
              "            'suggestCharts', [key], {});\n",
              "      } catch (error) {\n",
              "        console.error('Error during call to suggestCharts:', error);\n",
              "      }\n",
              "      quickchartButtonEl.classList.remove('colab-df-spinner');\n",
              "      quickchartButtonEl.classList.add('colab-df-quickchart-complete');\n",
              "    }\n",
              "    (() => {\n",
              "      let quickchartButtonEl =\n",
              "        document.querySelector('#df-16057df1-38c3-4cff-a5cf-375ed91db4d0 button');\n",
              "      quickchartButtonEl.style.display =\n",
              "        google.colab.kernel.accessAllowed ? 'block' : 'none';\n",
              "    })();\n",
              "  </script>\n",
              "</div>\n",
              "    </div>\n",
              "  </div>\n"
            ],
            "application/vnd.google.colaboratory.intrinsic+json": {
              "type": "dataframe",
              "variable_name": "filtered_data",
              "summary": "{\n  \"name\": \"filtered_data\",\n  \"rows\": 5717,\n  \"fields\": [\n    {\n      \"column\": \"host_response_rate\",\n      \"properties\": {\n        \"dtype\": \"category\",\n        \"num_unique_values\": 30,\n        \"samples\": [\n          \"93%\",\n          \"99%\",\n          \"88%\"\n        ],\n        \"semantic_type\": \"\",\n        \"description\": \"\"\n      }\n    },\n    {\n      \"column\": \"host_acceptance_rate\",\n      \"properties\": {\n        \"dtype\": \"category\",\n        \"num_unique_values\": 62,\n        \"samples\": [\n          \"20%\",\n          \"63%\",\n          \"29%\"\n        ],\n        \"semantic_type\": \"\",\n        \"description\": \"\"\n      }\n    },\n    {\n      \"column\": \"host_is_superhost\",\n      \"properties\": {\n        \"dtype\": \"category\",\n        \"num_unique_values\": 2,\n        \"samples\": [\n          \"f\",\n          \"t\"\n        ],\n        \"semantic_type\": \"\",\n        \"description\": \"\"\n      }\n    },\n    {\n      \"column\": \"host_listings_count\",\n      \"properties\": {\n        \"dtype\": \"number\",\n        \"std\": 380,\n        \"min\": 1,\n        \"max\": 4814,\n        \"num_unique_values\": 61,\n        \"samples\": [\n          4,\n          8\n        ],\n        \"semantic_type\": \"\",\n        \"description\": \"\"\n      }\n    },\n    {\n      \"column\": \"host_has_profile_pic\",\n      \"properties\": {\n        \"dtype\": \"category\",\n        \"num_unique_values\": 2,\n        \"samples\": [\n          \"f\",\n          \"t\"\n        ],\n        \"semantic_type\": \"\",\n        \"description\": \"\"\n      }\n    },\n    {\n      \"column\": \"host_identity_verified\",\n      \"properties\": {\n        \"dtype\": \"category\",\n        \"num_unique_values\": 2,\n        \"samples\": [\n          \"t\",\n          \"f\"\n        ],\n        \"semantic_type\": \"\",\n        \"description\": \"\"\n      }\n    },\n    {\n      \"column\": \"neighbourhood_cleansed\",\n      \"properties\": {\n        \"dtype\": \"category\",\n        \"num_unique_values\": 25,\n        \"samples\": [\n          \"Charlestown\",\n          \"Hyde Park\"\n        ],\n        \"semantic_type\": \"\",\n        \"description\": \"\"\n      }\n    },\n    {\n      \"column\": \"property_type\",\n      \"properties\": {\n        \"dtype\": \"category\",\n        \"num_unique_values\": 31,\n        \"samples\": [\n          \"Shared room in condo\",\n          \"Private room in guest suite\"\n        ],\n        \"semantic_type\": \"\",\n        \"description\": \"\"\n      }\n    },\n    {\n      \"column\": \"accommodates\",\n      \"properties\": {\n        \"dtype\": \"number\",\n        \"std\": 2,\n        \"min\": 1,\n        \"max\": 16,\n        \"num_unique_values\": 16,\n        \"samples\": [\n          2,\n          4\n        ],\n        \"semantic_type\": \"\",\n        \"description\": \"\"\n      }\n    },\n    {\n      \"column\": \"beds\",\n      \"properties\": {\n        \"dtype\": \"number\",\n        \"std\": 1.6080837511329247,\n        \"min\": 1.0,\n        \"max\": 22.0,\n        \"num_unique_values\": 18,\n        \"samples\": [\n          1.0,\n          2.0\n        ],\n        \"semantic_type\": \"\",\n        \"description\": \"\"\n      }\n    },\n    {\n      \"column\": \"number_of_reviews\",\n      \"properties\": {\n        \"dtype\": \"number\",\n        \"std\": 95,\n        \"min\": 0,\n        \"max\": 829,\n        \"num_unique_values\": 331,\n        \"samples\": [\n          181,\n          229\n        ],\n        \"semantic_type\": \"\",\n        \"description\": \"\"\n      }\n    },\n    {\n      \"column\": \"minimum_nights\",\n      \"properties\": {\n        \"dtype\": \"number\",\n        \"std\": 31,\n        \"min\": 1,\n        \"max\": 365,\n        \"num_unique_values\": 39,\n        \"samples\": [\n          25,\n          70\n        ],\n        \"semantic_type\": \"\",\n        \"description\": \"\"\n      }\n    },\n    {\n      \"column\": \"maximum_nights\",\n      \"properties\": {\n        \"dtype\": \"number\",\n        \"std\": 405,\n        \"min\": 1,\n        \"max\": 1125,\n        \"num_unique_values\": 84,\n        \"samples\": [\n          130,\n          1125\n        ],\n        \"semantic_type\": \"\",\n        \"description\": \"\"\n      }\n    },\n    {\n      \"column\": \"picture_url\",\n      \"properties\": {\n        \"dtype\": \"category\",\n        \"num_unique_values\": 2757,\n        \"samples\": [\n          \"https://a0.muscache.com/pictures/miso/Hosting-1044968346395200504/original/e2b870c1-1969-4603-9b51-b848f6185ac1.jpeg\",\n          \"https://a0.muscache.com/pictures/miso/Hosting-831961056951139768/original/b733330c-1d81-44bd-8abc-7625d0b593e0.jpeg\"\n        ],\n        \"semantic_type\": \"\",\n        \"description\": \"\"\n      }\n    },\n    {\n      \"column\": \"price\",\n      \"properties\": {\n        \"dtype\": \"number\",\n        \"std\": 256.40466079288313,\n        \"min\": 21.0,\n        \"max\": 9770.0,\n        \"num_unique_values\": 449,\n        \"samples\": [\n          352.0,\n          312.0\n        ],\n        \"semantic_type\": \"\",\n        \"description\": \"\"\n      }\n    }\n  ]\n}"
            }
          },
          "metadata": {},
          "execution_count": 10
        }
      ]
    },
    {
      "cell_type": "markdown",
      "source": [
        "Obtención de Embeddings"
      ],
      "metadata": {
        "id": "tpcnQ76Hv1Xh"
      }
    },
    {
      "cell_type": "code",
      "source": [
        "base_resnet = ResNet50(weights='imagenet', include_top=False, input_shape=(224, 224, 3))\n",
        "last = base_resnet.layers[-1].output\n",
        "x = GlobalAveragePooling2D()(last)\n",
        "feature_extractor = Model(base_resnet.input, x)"
      ],
      "metadata": {
        "id": "Mhr4FbgHvxhY"
      },
      "execution_count": null,
      "outputs": []
    },
    {
      "cell_type": "code",
      "source": [
        "embeddings = []\n",
        "preprocess = imagenet_utils.preprocess_input\n",
        "for im in tqdm(images):\n",
        "  input_im = preprocess(numpy.expand_dims(im, axis=0))\n",
        "  embeddings.append(feature_extractor.predict(input_im, verbose=0))\n",
        "\n",
        "embeddings = numpy.array(embeddings)"
      ],
      "metadata": {
        "id": "tCYk9rDdvzZv",
        "colab": {
          "base_uri": "https://localhost:8080/"
        },
        "outputId": "eabd0432-385c-4dcf-a6d3-038741b5f376"
      },
      "execution_count": null,
      "outputs": [
        {
          "output_type": "stream",
          "name": "stderr",
          "text": [
            "100%|██████████| 5717/5717 [26:21<00:00,  3.61it/s]\n"
          ]
        }
      ]
    },
    {
      "cell_type": "code",
      "source": [
        "filtered_data.reset_index(drop=True, inplace=True)\n",
        "filtered_data.shape"
      ],
      "metadata": {
        "id": "fTxMKCBlyRy_",
        "colab": {
          "base_uri": "https://localhost:8080/"
        },
        "outputId": "26905f28-a42a-45ef-cf29-6f1fcd79e73a"
      },
      "execution_count": null,
      "outputs": [
        {
          "output_type": "execute_result",
          "data": {
            "text/plain": [
              "(5717, 15)"
            ]
          },
          "metadata": {},
          "execution_count": 13
        }
      ]
    },
    {
      "cell_type": "markdown",
      "source": [
        "## Guardado de los datos para posterior uso/selección"
      ],
      "metadata": {
        "id": "Qn12-k_Vmogr"
      }
    },
    {
      "cell_type": "code",
      "source": [
        "numpy.save('images.npy', images)\n",
        "filtered_data.to_csv('filtered_data.csv', sep=';', index=False)"
      ],
      "metadata": {
        "id": "m0OUYs1fmuKA"
      },
      "execution_count": null,
      "outputs": []
    },
    {
      "cell_type": "code",
      "source": [
        "from google.colab import drive\n",
        "drive.mount('/content/drive')"
      ],
      "metadata": {
        "colab": {
          "base_uri": "https://localhost:8080/"
        },
        "id": "WhJ8ai2d9TxF",
        "outputId": "78377cca-a061-415f-c2cb-280f3090fa3d"
      },
      "execution_count": null,
      "outputs": [
        {
          "output_type": "stream",
          "name": "stdout",
          "text": [
            "Drive already mounted at /content/drive; to attempt to forcibly remount, call drive.mount(\"/content/drive\", force_remount=True).\n"
          ]
        }
      ]
    },
    {
      "cell_type": "code",
      "source": [
        "!cp images.npy /content/drive/MyDrive/images_final.npy\n",
        "!cp filtered_data.csv /content/drive/MyDrive/filtered_data.csv\n",
        "\n",
        "!ls -lah images* filtered*  # Comprobación"
      ],
      "metadata": {
        "colab": {
          "base_uri": "https://localhost:8080/"
        },
        "id": "WaiEHVPxtXla",
        "outputId": "be3824e4-4c8d-4927-bab9-674ddbbcd715"
      },
      "execution_count": null,
      "outputs": [
        {
          "output_type": "stream",
          "name": "stdout",
          "text": [
            "-rw-r--r-- 1 root root 946K Jun 16 12:58 filtered_data.csv\n",
            "-rw-r--r-- 1 root root 3.3G Jun 16 12:58 images.npy\n"
          ]
        }
      ]
    },
    {
      "cell_type": "code",
      "source": [
        "# Comprobamos a abrirlos de nuevo\n",
        "data = pandas.read_csv(\"/content/drive/MyDrive/filtered_data.csv\", sep=';')\n",
        "imgs = numpy.load(\"/content/drive/MyDrive/images_final.npy\")\n",
        "data.shape, imgs.shape"
      ],
      "metadata": {
        "colab": {
          "base_uri": "https://localhost:8080/"
        },
        "id": "yLX1ByamphPV",
        "outputId": "9e373098-45ad-4ccd-d0a2-ad12c7e202c7"
      },
      "execution_count": null,
      "outputs": [
        {
          "output_type": "execute_result",
          "data": {
            "text/plain": [
              "((5717, 15), (5717, 224, 224, 3))"
            ]
          },
          "metadata": {},
          "execution_count": 17
        }
      ]
    },
    {
      "cell_type": "markdown",
      "source": [
        "Así, por ejemplo, cargamos y visualizamos la distribución de las etiquetas:"
      ],
      "metadata": {
        "id": "mRDhGeMUuQdQ"
      }
    },
    {
      "cell_type": "code",
      "source": [
        "print(data['price'])\n",
        "data['price'].hist(bins=100)"
      ],
      "metadata": {
        "colab": {
          "base_uri": "https://localhost:8080/",
          "height": 667
        },
        "id": "ECahaJDVuUwS",
        "outputId": "dd1352f1-8a93-4765-ce0a-aa5da4e33106"
      },
      "execution_count": null,
      "outputs": [
        {
          "output_type": "stream",
          "name": "stdout",
          "text": [
            "0       125.0\n",
            "1       135.0\n",
            "2       179.0\n",
            "3        91.0\n",
            "4        86.0\n",
            "        ...  \n",
            "7079     83.0\n",
            "7080    107.0\n",
            "7081    136.0\n",
            "7082     83.0\n",
            "7083    106.0\n",
            "Name: price, Length: 7084, dtype: float64\n"
          ]
        },
        {
          "output_type": "execute_result",
          "data": {
            "text/plain": [
              "<Axes: >"
            ]
          },
          "metadata": {},
          "execution_count": 4
        },
        {
          "output_type": "display_data",
          "data": {
            "text/plain": [
              "<Figure size 640x480 with 1 Axes>"
            ],
            "image/png": "[encoded data removed]"
          },
          "metadata": {}
        }
      ]
    },
    {
      "cell_type": "markdown",
      "source": [
        "Y podemos dividir por porcentajes, para crear clases, como por ejemplo:"
      ],
      "metadata": {
        "id": "tKoND5JVusVl"
      }
    },
    {
      "cell_type": "code",
      "source": [
        "data['price'].describe()"
      ],
      "metadata": {
        "colab": {
          "base_uri": "https://localhost:8080/"
        },
        "id": "-3VrvGPhuvz7",
        "outputId": "7a1443c2-f578-4741-de39-15c5e88444f9"
      },
      "execution_count": null,
      "outputs": [
        {
          "output_type": "execute_result",
          "data": {
            "text/plain": [
              "count     7084.000000\n",
              "mean       183.708498\n",
              "std        304.138343\n",
              "min         20.000000\n",
              "25%         80.000000\n",
              "50%        127.000000\n",
              "75%        200.000000\n",
              "max      10000.000000\n",
              "Name: price, dtype: float64"
            ]
          },
          "metadata": {},
          "execution_count": 5
        }
      ]
    },
    {
      "cell_type": "code",
      "source": [
        "y_class = []\n",
        "for y in data['price']:\n",
        "  if y <= 70:\n",
        "    y_class.append(0) # Rango más barato\n",
        "  elif 70 < y <= 127:\n",
        "    y_class.append(1) # Rango intermedio\n",
        "  else:\n",
        "    y_class.append(2)\n",
        "y_class = pandas.Series(y_class)\n",
        "y_class.hist(bins=3)"
      ],
      "metadata": {
        "colab": {
          "base_uri": "https://localhost:8080/",
          "height": 448
        },
        "id": "iqylpHMBxhTo",
        "outputId": "d0c62d72-2a27-4002-9e6b-dd966c542b3d"
      },
      "execution_count": null,
      "outputs": [
        {
          "output_type": "execute_result",
          "data": {
            "text/plain": [
              "<Axes: >"
            ]
          },
          "metadata": {},
          "execution_count": 6
        },
        {
          "output_type": "display_data",
          "data": {
            "text/plain": [
              "<Figure size 640x480 with 1 Axes>"
            ],
            "image/png": "[encoded data removed]"
          },
          "metadata": {}
        }
      ]
    },
    {
      "cell_type": "markdown",
      "source": [
        "## Dividiendo los datos y las imágenes en train y test"
      ],
      "metadata": {
        "id": "SgxipGnwGcNa"
      }
    },
    {
      "cell_type": "code",
      "source": [
        "import numpy as np\n",
        "import pandas as pd\n",
        "import matplotlib.pyplot as plt\n",
        "from sklearn.model_selection import train_test_split\n",
        "from sklearn.preprocessing import StandardScaler\n",
        "from sklearn.metrics import classification_report\n",
        "import tensorflow as tf\n",
        "from tensorflow.keras.models import Sequential\n",
        "from tensorflow.keras.layers import Dense, Flatten"
      ],
      "metadata": {
        "id": "ouO0Rfnpoi1V"
      },
      "execution_count": null,
      "outputs": []
    },
    {
      "cell_type": "code",
      "source": [
        "train_df, test_df = train_test_split(\n",
        "    data,\n",
        "    test_size=0.3,\n",
        "    random_state=42,\n",
        "    shuffle=True\n",
        ")\n",
        "train_df, val_df = train_test_split(\n",
        "    train_df,\n",
        "    test_size=0.2,\n",
        "    random_state=42,\n",
        "    shuffle=True\n",
        ")\n",
        "print(f\"Muestras en TRAIN ({len(train_df)}), VAL ({len(val_df)}), TEST ({len(test_df)})\")"
      ],
      "metadata": {
        "id": "4imTorl-oWce",
        "colab": {
          "base_uri": "https://localhost:8080/"
        },
        "outputId": "f1623dd6-80bf-4c4d-ff7b-9d0bf31d59ef"
      },
      "execution_count": null,
      "outputs": [
        {
          "output_type": "stream",
          "name": "stdout",
          "text": [
            "Muestras en TRAIN (3200), VAL (801), TEST (1716)\n"
          ]
        }
      ]
    },
    {
      "cell_type": "code",
      "source": [
        "train_idx = train_df.index\n",
        "val_idx = val_df.index\n",
        "test_idx = test_df.index"
      ],
      "metadata": {
        "id": "RL8Gs4w-xZ6y"
      },
      "execution_count": null,
      "outputs": []
    },
    {
      "cell_type": "markdown",
      "source": [
        "## Modelo 1D/tabular"
      ],
      "metadata": {
        "id": "qOlpqkGPyPOC"
      }
    },
    {
      "cell_type": "markdown",
      "source": [],
      "metadata": {
        "id": "voHVnJoQIpFL"
      }
    },
    {
      "cell_type": "markdown",
      "source": [
        "### Preprocesado"
      ],
      "metadata": {
        "id": "OsRcUOmD50YR"
      }
    },
    {
      "cell_type": "code",
      "source": [
        "def pct_to_rate(x: str) -> float:\n",
        "  return float(x.replace(\"%\", \"\")) / 100 if isinstance(x, str) else x / 100\n",
        "\n",
        "for df in [train_df, val_df, test_df]:\n",
        "  df.loc[:, \"host_response_rate\"] = df[\"host_response_rate\"].apply(pct_to_rate)\n",
        "  df.loc[:, \"host_acceptance_rate\"] = df[\"host_acceptance_rate\"].apply(pct_to_rate)"
      ],
      "metadata": {
        "id": "J1MxV67m56gk"
      },
      "execution_count": null,
      "outputs": []
    },
    {
      "cell_type": "markdown",
      "source": [
        "Normalización y categorización"
      ],
      "metadata": {
        "id": "PlY36yVZ5_yP"
      }
    },
    {
      "cell_type": "code",
      "source": [
        "numerical_cols = [\n",
        "    \"host_response_rate\",\n",
        "    \"host_acceptance_rate\",\n",
        "    \"host_listings_count\",\n",
        "    \"accommodates\",\n",
        "    \"beds\",\n",
        "    \"number_of_reviews\",\n",
        "    \"minimum_nights\",\n",
        "    \"maximum_nights\"\n",
        "]\n",
        "categorical_cols = [\n",
        "    \"host_is_superhost\",\n",
        "    \"host_has_profile_pic\",\n",
        "    \"host_identity_verified\",\n",
        "    \"neighbourhood_cleansed\",\n",
        "    \"property_type\"\n",
        "]"
      ],
      "metadata": {
        "id": "SBOoj8hG57jZ"
      },
      "execution_count": null,
      "outputs": []
    },
    {
      "cell_type": "code",
      "source": [
        "for numcol in numerical_cols:\n",
        "  scaler = StandardScaler()\n",
        "  scaler.fit(train_df[numcol].values.reshape(-1, 1))\n",
        "  for df in [train_df, val_df, test_df]:\n",
        "    df[numcol] = scaler.transform(df[numcol].values.reshape(-1, 1)).squeeze()\n",
        "\n",
        "for catcol in categorical_cols:\n",
        "  for df in [train_df, val_df, test_df]:\n",
        "    df[catcol] = pandas.factorize(df[catcol])[0]"
      ],
      "metadata": {
        "id": "nmbEJIbT6Gh_"
      },
      "execution_count": null,
      "outputs": []
    },
    {
      "cell_type": "markdown",
      "source": [],
      "metadata": {
        "id": "Bdq_1GG96KDp"
      }
    },
    {
      "cell_type": "markdown",
      "source": [
        "### Modelo 1D"
      ],
      "metadata": {
        "id": "KjQ-vBmfJZ9o"
      }
    },
    {
      "cell_type": "code",
      "source": [
        "import numpy as np\n",
        "import tensorflow as tf\n",
        "from sklearn.metrics import classification_report\n",
        "from tensorflow.keras.models import Sequential\n",
        "from tensorflow.keras.layers import Dense, Flatten\n",
        "from tensorflow.keras.optimizers import SGD\n",
        "import matplotlib.pyplot as plt\n",
        "from sklearn.preprocessing import StandardScaler\n",
        "from keras.utils import to_categorical"
      ],
      "metadata": {
        "id": "JR83Sgf-2dzZ"
      },
      "execution_count": null,
      "outputs": []
    },
    {
      "cell_type": "markdown",
      "source": [
        "Asignación de clases"
      ],
      "metadata": {
        "id": "6UnncoejqTUj"
      }
    },
    {
      "cell_type": "code",
      "source": [
        "quantiles = train_df[\"price\"].quantile([0.33, 0.66]).values\n",
        "print(f\"Barato si menor que: {quantiles[0]}\\nPromedio si menor que: {quantiles[1]}\\nCaro si mayor que: {quantiles[1]}\")"
      ],
      "metadata": {
        "colab": {
          "base_uri": "https://localhost:8080/"
        },
        "id": "EgLYiTjss-H6",
        "outputId": "4c44fb35-74ce-4c5e-d714-096e55afe37d"
      },
      "execution_count": null,
      "outputs": [
        {
          "output_type": "stream",
          "name": "stdout",
          "text": [
            "Barato si menor que: 88.0\n",
            "Promedio si menor que: 160.0\n",
            "Caro si mayor que: 160.0\n"
          ]
        }
      ]
    },
    {
      "cell_type": "code",
      "source": [
        "def assign_class(labels: pandas.Series, first_third: int, second_third: int) -> numpy.array:\n",
        "  \"\"\" Assing one-hot encoding to  3 possible labels (price ranges). \"\"\"\n",
        "  y_cls = []\n",
        "  for label in labels:\n",
        "    if label <= first_third:\n",
        "      y_cls.append(0)\n",
        "    elif first_third < label <= second_third:\n",
        "      y_cls.append(1)\n",
        "    else:\n",
        "      y_cls.append(2)\n",
        "  return to_categorical(y_cls)"
      ],
      "metadata": {
        "id": "vsfMkW41tAW7"
      },
      "execution_count": null,
      "outputs": []
    },
    {
      "cell_type": "code",
      "source": [
        "train_y_cls = assign_class(train_df[\"price\"], quantiles[0], quantiles[1])\n",
        "val_y_cls = assign_class(val_df[\"price\"], quantiles[0], quantiles[1])\n",
        "test_y_cls = assign_class(test_df[\"price\"], quantiles[0], quantiles[1])"
      ],
      "metadata": {
        "id": "TUwmKu94tJ52"
      },
      "execution_count": null,
      "outputs": []
    },
    {
      "cell_type": "markdown",
      "source": [
        "Modelado"
      ],
      "metadata": {
        "id": "uP17w_WsqfV5"
      }
    },
    {
      "cell_type": "code",
      "source": [
        "def create_classifier(nb_inputs: int, nb_out: int, verbose: bool = True):\n",
        "  model = Sequential()\n",
        "  model.add(Dense(64, input_shape=(nb_inputs,), activation='relu'))\n",
        "  model.add(Dense(32, activation='relu'))\n",
        "  model.add(Dense(8, activation='relu'))\n",
        "  if nb_out > 1:\n",
        "    model.add(Dense(nb_out, activation='softmax'))\n",
        "    model.compile(loss='categorical_crossentropy', optimizer='adam', metrics=['accuracy'])\n",
        "  else:\n",
        "    model.add(Dense(nb_out, activation=\"linear\"))\n",
        "    model.compile(loss='mean_squared_error', optimizer='adam')\n",
        "  if verbose:\n",
        "    model.summary()\n",
        "  return model"
      ],
      "metadata": {
        "id": "euPxowhDu21L"
      },
      "execution_count": null,
      "outputs": []
    },
    {
      "cell_type": "code",
      "source": [
        "feature_cols = numerical_cols + categorical_cols\n",
        "nb_inputs = len(feature_cols)\n",
        "nb_outputs = train_y_cls.shape[1]"
      ],
      "metadata": {
        "id": "7NRccGHFu8PP"
      },
      "execution_count": null,
      "outputs": []
    },
    {
      "cell_type": "code",
      "source": [
        "model_1d_cls = create_classifier(nb_inputs, nb_outputs)"
      ],
      "metadata": {
        "colab": {
          "base_uri": "https://localhost:8080/"
        },
        "id": "xV9nEgYSu_nW",
        "outputId": "c442c708-f501-4087-88e0-53ff83886783"
      },
      "execution_count": null,
      "outputs": [
        {
          "output_type": "stream",
          "name": "stdout",
          "text": [
            "Model: \"sequential\"\n",
            "_________________________________________________________________\n",
            " Layer (type)                Output Shape              Param #   \n",
            "=================================================================\n",
            " dense (Dense)               (None, 64)                896       \n",
            "                                                                 \n",
            " dense_1 (Dense)             (None, 32)                2080      \n",
            "                                                                 \n",
            " dense_2 (Dense)             (None, 8)                 264       \n",
            "                                                                 \n",
            " dense_3 (Dense)             (None, 3)                 27        \n",
            "                                                                 \n",
            "=================================================================\n",
            "Total params: 3267 (12.76 KB)\n",
            "Trainable params: 3267 (12.76 KB)\n",
            "Non-trainable params: 0 (0.00 Byte)\n",
            "_________________________________________________________________\n"
          ]
        }
      ]
    },
    {
      "cell_type": "markdown",
      "source": [
        "Entrenamiento del modelo"
      ],
      "metadata": {
        "id": "Zgx2kIukqq1b"
      }
    },
    {
      "cell_type": "code",
      "source": [
        "MAX_EPOCHS = 100\n",
        "BS = 128\n",
        "\n",
        "H = model_1d_cls.fit(\n",
        "    x=train_df[feature_cols].values,\n",
        "    y=train_y_cls,\n",
        "    batch_size=BS,\n",
        "    epochs=MAX_EPOCHS,\n",
        "    validation_data=(val_df[feature_cols].values, val_y_cls),\n",
        "    callbacks=[EarlyStopping(monitor='val_loss', min_delta=1e-5, patience=10, verbose=0, mode='auto')],\n",
        "    shuffle=True,\n",
        "    verbose=1\n",
        ")"
      ],
      "metadata": {
        "colab": {
          "base_uri": "https://localhost:8080/"
        },
        "id": "2AzsDMbmvccU",
        "outputId": "9ff7a4e4-9d28-4e65-f934-86bfff952e0d"
      },
      "execution_count": null,
      "outputs": [
        {
          "output_type": "stream",
          "name": "stdout",
          "text": [
            "Epoch 1/100\n",
            "25/25 [==============================] - 2s 15ms/step - loss: 1.0778 - accuracy: 0.4712 - val_loss: 1.0194 - val_accuracy: 0.5094\n",
            "Epoch 2/100\n",
            "25/25 [==============================] - 0s 5ms/step - loss: 0.9778 - accuracy: 0.5656 - val_loss: 0.9674 - val_accuracy: 0.5668\n",
            "Epoch 3/100\n",
            "25/25 [==============================] - 0s 4ms/step - loss: 0.9127 - accuracy: 0.5900 - val_loss: 0.9351 - val_accuracy: 0.5630\n",
            "Epoch 4/100\n",
            "25/25 [==============================] - 0s 5ms/step - loss: 0.8494 - accuracy: 0.6019 - val_loss: 0.9078 - val_accuracy: 0.5618\n",
            "Epoch 5/100\n",
            "25/25 [==============================] - 0s 5ms/step - loss: 0.8041 - accuracy: 0.6250 - val_loss: 0.8984 - val_accuracy: 0.5531\n",
            "Epoch 6/100\n",
            "25/25 [==============================] - 0s 5ms/step - loss: 0.7813 - accuracy: 0.6275 - val_loss: 0.8919 - val_accuracy: 0.5680\n",
            "Epoch 7/100\n",
            "25/25 [==============================] - 0s 6ms/step - loss: 0.7605 - accuracy: 0.6391 - val_loss: 0.8662 - val_accuracy: 0.5843\n",
            "Epoch 8/100\n",
            "25/25 [==============================] - 0s 4ms/step - loss: 0.7470 - accuracy: 0.6459 - val_loss: 0.8544 - val_accuracy: 0.5805\n",
            "Epoch 9/100\n",
            "25/25 [==============================] - 0s 4ms/step - loss: 0.7363 - accuracy: 0.6509 - val_loss: 0.8477 - val_accuracy: 0.5868\n",
            "Epoch 10/100\n",
            "25/25 [==============================] - 0s 5ms/step - loss: 0.7271 - accuracy: 0.6475 - val_loss: 0.8432 - val_accuracy: 0.5980\n",
            "Epoch 11/100\n",
            "25/25 [==============================] - 0s 4ms/step - loss: 0.7172 - accuracy: 0.6544 - val_loss: 0.8382 - val_accuracy: 0.5943\n",
            "Epoch 12/100\n",
            "25/25 [==============================] - 0s 4ms/step - loss: 0.7053 - accuracy: 0.6538 - val_loss: 0.8444 - val_accuracy: 0.5843\n",
            "Epoch 13/100\n",
            "25/25 [==============================] - 0s 5ms/step - loss: 0.6987 - accuracy: 0.6616 - val_loss: 0.8340 - val_accuracy: 0.5918\n",
            "Epoch 14/100\n",
            "25/25 [==============================] - 0s 5ms/step - loss: 0.6928 - accuracy: 0.6644 - val_loss: 0.8300 - val_accuracy: 0.5943\n",
            "Epoch 15/100\n",
            "25/25 [==============================] - 0s 8ms/step - loss: 0.6917 - accuracy: 0.6800 - val_loss: 0.8355 - val_accuracy: 0.5868\n",
            "Epoch 16/100\n",
            "25/25 [==============================] - 0s 5ms/step - loss: 0.6860 - accuracy: 0.6684 - val_loss: 0.8191 - val_accuracy: 0.5880\n",
            "Epoch 17/100\n",
            "25/25 [==============================] - 0s 5ms/step - loss: 0.6755 - accuracy: 0.6844 - val_loss: 0.8214 - val_accuracy: 0.5830\n",
            "Epoch 18/100\n",
            "25/25 [==============================] - 0s 4ms/step - loss: 0.6708 - accuracy: 0.6812 - val_loss: 0.8238 - val_accuracy: 0.5943\n",
            "Epoch 19/100\n",
            "25/25 [==============================] - 0s 4ms/step - loss: 0.6702 - accuracy: 0.6809 - val_loss: 0.8374 - val_accuracy: 0.6042\n",
            "Epoch 20/100\n",
            "25/25 [==============================] - 0s 7ms/step - loss: 0.6682 - accuracy: 0.6897 - val_loss: 0.8336 - val_accuracy: 0.5805\n",
            "Epoch 21/100\n",
            "25/25 [==============================] - 0s 4ms/step - loss: 0.6604 - accuracy: 0.6897 - val_loss: 0.8197 - val_accuracy: 0.5905\n",
            "Epoch 22/100\n",
            "25/25 [==============================] - 0s 6ms/step - loss: 0.6550 - accuracy: 0.7000 - val_loss: 0.8226 - val_accuracy: 0.5943\n",
            "Epoch 23/100\n",
            "25/25 [==============================] - 0s 5ms/step - loss: 0.6548 - accuracy: 0.6978 - val_loss: 0.8239 - val_accuracy: 0.5968\n",
            "Epoch 24/100\n",
            "25/25 [==============================] - 0s 4ms/step - loss: 0.6459 - accuracy: 0.6981 - val_loss: 0.8220 - val_accuracy: 0.5818\n",
            "Epoch 25/100\n",
            "25/25 [==============================] - 0s 4ms/step - loss: 0.6439 - accuracy: 0.7072 - val_loss: 0.8231 - val_accuracy: 0.6005\n",
            "Epoch 26/100\n",
            "25/25 [==============================] - 0s 4ms/step - loss: 0.6430 - accuracy: 0.7050 - val_loss: 0.8274 - val_accuracy: 0.6005\n"
          ]
        }
      ]
    },
    {
      "cell_type": "code",
      "source": [
        "plt.plot(H.history['loss'], label='train loss')\n",
        "plt.plot(H.history['accuracy'], label='train acc')\n",
        "plt.plot(H.history['val_loss'], label='val loss')\n",
        "plt.plot(H.history['val_accuracy'], label='val acc')\n",
        "plt.legend()\n",
        "plt.xlabel('Epoch')\n",
        "plt.plot()"
      ],
      "metadata": {
        "colab": {
          "base_uri": "https://localhost:8080/",
          "height": 468
        },
        "id": "Y9u8mxT67Dtl",
        "outputId": "5f773b88-ddfa-4234-a2bc-23f4316ea7ec"
      },
      "execution_count": null,
      "outputs": [
        {
          "output_type": "execute_result",
          "data": {
            "text/plain": [
              "[]"
            ]
          },
          "metadata": {},
          "execution_count": 33
        },
        {
          "output_type": "display_data",
          "data": {
            "text/plain": [
              "<Figure size 640x480 with 1 Axes>"
            ],
            "image/png": "[encoded data removed]"
          },
          "metadata": {}
        }
      ]
    },
    {
      "cell_type": "markdown",
      "source": [
        "Evaluación en test"
      ],
      "metadata": {
        "id": "NahZKmO8qxGE"
      }
    },
    {
      "cell_type": "code",
      "source": [
        "loss, acc = model_1d_cls.evaluate(test_df[feature_cols].values, test_y_cls)\n",
        "print(f'Loss={loss:.3f}, Accuracy={acc:.3f} ')"
      ],
      "metadata": {
        "colab": {
          "base_uri": "https://localhost:8080/"
        },
        "id": "dFhH4ANG_U0A",
        "outputId": "b6973151-454e-4598-bee9-f7249dd2b013"
      },
      "execution_count": null,
      "outputs": [
        {
          "output_type": "stream",
          "name": "stdout",
          "text": [
            "54/54 [==============================] - 0s 4ms/step - loss: 0.9050 - accuracy: 0.5559\n",
            "Loss=0.905, Accuracy=0.556 \n"
          ]
        }
      ]
    },
    {
      "cell_type": "markdown",
      "source": [
        "## Modelo 2D/imágenes"
      ],
      "metadata": {
        "id": "t9ld4JGSR4Me"
      }
    },
    {
      "cell_type": "code",
      "source": [
        "embeddings = embeddings.squeeze() #utilizamos los embedding obtenidos al principio del notebook con un modelo preentrenado.\n",
        "nb_inputs = embeddings.shape[1]"
      ],
      "metadata": {
        "id": "cCWpGsmlpwwG"
      },
      "execution_count": null,
      "outputs": []
    },
    {
      "cell_type": "code",
      "source": [
        "model_2d_cls = create_classifier(nb_inputs, nb_outputs)"
      ],
      "metadata": {
        "colab": {
          "base_uri": "https://localhost:8080/"
        },
        "id": "_qa-7xA-SEWW",
        "outputId": "704aee7a-00cf-4fcd-8858-40f3504b805f"
      },
      "execution_count": null,
      "outputs": [
        {
          "output_type": "stream",
          "name": "stdout",
          "text": [
            "Model: \"sequential_1\"\n",
            "_________________________________________________________________\n",
            " Layer (type)                Output Shape              Param #   \n",
            "=================================================================\n",
            " dense_4 (Dense)             (None, 64)                131136    \n",
            "                                                                 \n",
            " dense_5 (Dense)             (None, 32)                2080      \n",
            "                                                                 \n",
            " dense_6 (Dense)             (None, 8)                 264       \n",
            "                                                                 \n",
            " dense_7 (Dense)             (None, 3)                 27        \n",
            "                                                                 \n",
            "=================================================================\n",
            "Total params: 133507 (521.51 KB)\n",
            "Trainable params: 133507 (521.51 KB)\n",
            "Non-trainable params: 0 (0.00 Byte)\n",
            "_________________________________________________________________\n"
          ]
        }
      ]
    },
    {
      "cell_type": "markdown",
      "source": [
        "Entrenamiento"
      ],
      "metadata": {
        "id": "NjS3Be9_rQPM"
      }
    },
    {
      "cell_type": "code",
      "source": [
        "H = model_2d_cls.fit(\n",
        "    x=embeddings[train_df.index],\n",
        "    y=train_y_cls,\n",
        "    batch_size=BS,\n",
        "    epochs=MAX_EPOCHS,\n",
        "    validation_data=(embeddings[val_df.index], val_y_cls),\n",
        "    callbacks=[EarlyStopping(monitor='val_loss', min_delta=1e-4, patience=10, verbose=0, mode='auto')],\n",
        "    shuffle=True,\n",
        "    verbose=1\n",
        ")"
      ],
      "metadata": {
        "id": "xfnzQbGyShx_",
        "colab": {
          "base_uri": "https://localhost:8080/"
        },
        "outputId": "bdd3d842-533e-4997-e303-61a664e32648"
      },
      "execution_count": null,
      "outputs": [
        {
          "output_type": "stream",
          "name": "stdout",
          "text": [
            "Epoch 1/100\n",
            "25/25 [==============================] - 6s 67ms/step - loss: 1.1075 - accuracy: 0.3250 - val_loss: 1.0959 - val_accuracy: 0.3683\n",
            "Epoch 2/100\n",
            "25/25 [==============================] - 0s 18ms/step - loss: 1.0992 - accuracy: 0.3366 - val_loss: 1.0952 - val_accuracy: 0.3708\n",
            "Epoch 3/100\n",
            "25/25 [==============================] - 0s 11ms/step - loss: 1.1010 - accuracy: 0.3281 - val_loss: 1.0995 - val_accuracy: 0.2659\n",
            "Epoch 4/100\n",
            "25/25 [==============================] - 0s 8ms/step - loss: 1.0988 - accuracy: 0.3303 - val_loss: 1.0993 - val_accuracy: 0.3071\n",
            "Epoch 5/100\n",
            "25/25 [==============================] - 0s 8ms/step - loss: 1.0987 - accuracy: 0.3316 - val_loss: 1.0990 - val_accuracy: 0.3071\n",
            "Epoch 6/100\n",
            "25/25 [==============================] - 0s 10ms/step - loss: 1.0987 - accuracy: 0.3316 - val_loss: 1.0989 - val_accuracy: 0.3071\n",
            "Epoch 7/100\n",
            "25/25 [==============================] - 0s 8ms/step - loss: 1.0986 - accuracy: 0.3316 - val_loss: 1.0985 - val_accuracy: 0.3071\n",
            "Epoch 8/100\n",
            "25/25 [==============================] - 0s 8ms/step - loss: 1.0986 - accuracy: 0.3203 - val_loss: 1.0985 - val_accuracy: 0.3071\n",
            "Epoch 9/100\n",
            "25/25 [==============================] - 0s 8ms/step - loss: 1.0986 - accuracy: 0.3378 - val_loss: 1.0983 - val_accuracy: 0.3683\n",
            "Epoch 10/100\n",
            "25/25 [==============================] - 0s 8ms/step - loss: 1.0986 - accuracy: 0.3388 - val_loss: 1.0982 - val_accuracy: 0.3683\n",
            "Epoch 11/100\n",
            "25/25 [==============================] - 0s 19ms/step - loss: 1.0986 - accuracy: 0.3388 - val_loss: 1.0982 - val_accuracy: 0.3683\n",
            "Epoch 12/100\n",
            "25/25 [==============================] - 0s 19ms/step - loss: 1.0986 - accuracy: 0.3388 - val_loss: 1.0982 - val_accuracy: 0.3683\n"
          ]
        }
      ]
    },
    {
      "cell_type": "code",
      "source": [
        "plt.plot(H.history['loss'], label='train loss')\n",
        "plt.plot(H.history['accuracy'], label='train acc')\n",
        "plt.plot(H.history['val_loss'], label='val loss')\n",
        "plt.plot(H.history['val_accuracy'], label='val acc')\n",
        "plt.legend()\n",
        "plt.xlabel('Epoch')\n",
        "plt.plot()"
      ],
      "metadata": {
        "colab": {
          "base_uri": "https://localhost:8080/",
          "height": 467
        },
        "id": "_HTMao9n-DRo",
        "outputId": "9bba66ca-13b3-4bfc-cea0-c1bbe3660a79"
      },
      "execution_count": null,
      "outputs": [
        {
          "output_type": "execute_result",
          "data": {
            "text/plain": [
              "[]"
            ]
          },
          "metadata": {},
          "execution_count": 39
        },
        {
          "output_type": "display_data",
          "data": {
            "text/plain": [
              "<Figure size 640x480 with 1 Axes>"
            ],
            "image/png": "[encoded data removed]"
          },
          "metadata": {}
        }
      ]
    },
    {
      "cell_type": "markdown",
      "source": [
        "Evaluación en test"
      ],
      "metadata": {
        "id": "4mmCexnHrTHG"
      }
    },
    {
      "cell_type": "code",
      "source": [
        "loss, acc = model_2d_cls.evaluate(embeddings[test_df.index], test_y_cls)\n",
        "print(f'Loss={loss:.3f}, Accuracy={acc:.3f} ')"
      ],
      "metadata": {
        "colab": {
          "base_uri": "https://localhost:8080/"
        },
        "id": "5pGj3omy-TGg",
        "outputId": "fd868328-f9d0-49bd-97d4-54185ae1b3df"
      },
      "execution_count": null,
      "outputs": [
        {
          "output_type": "stream",
          "name": "stdout",
          "text": [
            "54/54 [==============================] - 0s 7ms/step - loss: 1.0989 - accuracy: 0.3217\n",
            "Loss=1.099, Accuracy=0.322 \n"
          ]
        }
      ]
    },
    {
      "cell_type": "markdown",
      "source": [
        "# LATE-FUSION"
      ],
      "metadata": {
        "id": "V7HzTkCzcvyP"
      }
    },
    {
      "cell_type": "markdown",
      "source": [
        "En este código se implementa una estrategia de **late-fusion**, donde se combinan las predicciones de dos modelos (un modelo 1D y un modelo 2D) para realizar una predicción final. A continuación, se detalla cada paso del proceso:"
      ],
      "metadata": {
        "id": "AdiC4v9hthQK"
      }
    },
    {
      "cell_type": "markdown",
      "source": [
        "Primero, se obtienen las predicciones de los modelos 1D (`model_1d_cls`) y 2D (`model_2d_cls`) para los conjuntos de entrenamiento, validación y prueba."
      ],
      "metadata": {
        "id": "LcQBAkbSvuHn"
      }
    },
    {
      "cell_type": "code",
      "source": [
        "late_1d_train = model_1d_cls.predict(train_df[feature_cols].values)\n",
        "late_1d_val = model_1d_cls.predict(val_df[feature_cols].values)\n",
        "late_1d_test = model_1d_cls.predict(test_df[feature_cols].values)\n",
        "\n",
        "late_2d_train = model_2d_cls.predict(embeddings[train_df.index])\n",
        "late_2d_val = model_2d_cls.predict(embeddings[val_df.index])\n",
        "late_2d_test = model_2d_cls.predict(embeddings[test_df.index])"
      ],
      "metadata": {
        "colab": {
          "base_uri": "https://localhost:8080/"
        },
        "id": "8OH9NNUpc-mO",
        "outputId": "352f9a0c-6d17-4bbd-d05d-f0a00f0e79d3"
      },
      "execution_count": null,
      "outputs": [
        {
          "output_type": "stream",
          "name": "stdout",
          "text": [
            "100/100 [==============================] - 0s 2ms/step\n",
            "26/26 [==============================] - 0s 2ms/step\n",
            "54/54 [==============================] - 0s 2ms/step\n",
            "100/100 [==============================] - 0s 2ms/step\n",
            "26/26 [==============================] - 0s 3ms/step\n",
            "54/54 [==============================] - 0s 2ms/step\n"
          ]
        }
      ]
    },
    {
      "cell_type": "markdown",
      "source": [
        "Se combinan las predicciones de ambos modelos para crear nuevas características (`late_feats`) para cada conjunto (entrenamiento, validación y prueba)."
      ],
      "metadata": {
        "id": "jpJQZWdqv2j6"
      }
    },
    {
      "cell_type": "code",
      "source": [
        "train_late_feats = numpy.concatenate([late_1d_train, late_2d_train], axis=1)\n",
        "val_late_feats = numpy.concatenate([late_1d_val, late_2d_val], axis=1)\n",
        "test_late_feats = numpy.concatenate([late_1d_test, late_2d_test], axis=1)\n",
        "\n",
        "print(f\"Dimensiones del nuevo conjunto de train: {train_late_feats.shape}\")"
      ],
      "metadata": {
        "colab": {
          "base_uri": "https://localhost:8080/"
        },
        "id": "7kUNmP5bc-f8",
        "outputId": "f0abafd3-6ac6-4df6-b2e5-373a4732c9c3"
      },
      "execution_count": null,
      "outputs": [
        {
          "output_type": "stream",
          "name": "stdout",
          "text": [
            "Dimensiones del nuevo conjunto de train: (3200, 6)\n"
          ]
        }
      ]
    },
    {
      "cell_type": "markdown",
      "source": [
        "Se crea un nuevo modelo de clasificación (`late_fuser`) que combinará las predicciones de los modelos 1D y 2D."
      ],
      "metadata": {
        "id": "zPVlo9T-wJjp"
      }
    },
    {
      "cell_type": "code",
      "source": [
        "late_fuser = create_classifier(train_late_feats.shape[1], train_y_cls.shape[1])"
      ],
      "metadata": {
        "colab": {
          "base_uri": "https://localhost:8080/"
        },
        "id": "YmNs58Xmc-ct",
        "outputId": "ea6e198f-83bb-4323-da20-c45e7d9d663e"
      },
      "execution_count": null,
      "outputs": [
        {
          "output_type": "stream",
          "name": "stdout",
          "text": [
            "Model: \"sequential_2\"\n",
            "_________________________________________________________________\n",
            " Layer (type)                Output Shape              Param #   \n",
            "=================================================================\n",
            " dense_8 (Dense)             (None, 64)                448       \n",
            "                                                                 \n",
            " dense_9 (Dense)             (None, 32)                2080      \n",
            "                                                                 \n",
            " dense_10 (Dense)            (None, 8)                 264       \n",
            "                                                                 \n",
            " dense_11 (Dense)            (None, 3)                 27        \n",
            "                                                                 \n",
            "=================================================================\n",
            "Total params: 2819 (11.01 KB)\n",
            "Trainable params: 2819 (11.01 KB)\n",
            "Non-trainable params: 0 (0.00 Byte)\n",
            "_________________________________________________________________\n"
          ]
        }
      ]
    },
    {
      "cell_type": "markdown",
      "source": [
        "Se entrena el modelo de fusión utilizando las nuevas características de entrenamiento y validación, con un callback de `EarlyStopping` para evitar el sobreajuste."
      ],
      "metadata": {
        "id": "t1IrClbrwYsm"
      }
    },
    {
      "cell_type": "code",
      "source": [
        "H = late_fuser.fit(\n",
        "    x=train_late_feats,\n",
        "    y=train_y_cls,\n",
        "    batch_size=BS,\n",
        "    epochs=MAX_EPOCHS,\n",
        "    validation_data=(val_late_feats, val_y_cls),\n",
        "    callbacks=[EarlyStopping(monitor='val_loss', min_delta=1e-4, patience=10, verbose=0, mode='auto')],\n",
        "    shuffle=True,\n",
        "    verbose=1\n",
        ")"
      ],
      "metadata": {
        "colab": {
          "base_uri": "https://localhost:8080/"
        },
        "id": "7gUBASXEc-HL",
        "outputId": "27212514-1f51-426b-8a6e-f8cd2edab046"
      },
      "execution_count": null,
      "outputs": [
        {
          "output_type": "stream",
          "name": "stdout",
          "text": [
            "Epoch 1/100\n",
            "25/25 [==============================] - 1s 18ms/step - loss: 1.0598 - accuracy: 0.4053 - val_loss: 1.0260 - val_accuracy: 0.5144\n",
            "Epoch 2/100\n",
            "25/25 [==============================] - 0s 7ms/step - loss: 0.9731 - accuracy: 0.5628 - val_loss: 0.9574 - val_accuracy: 0.5243\n",
            "Epoch 3/100\n",
            "25/25 [==============================] - 0s 7ms/step - loss: 0.8899 - accuracy: 0.6069 - val_loss: 0.9044 - val_accuracy: 0.5481\n",
            "Epoch 4/100\n",
            "25/25 [==============================] - 0s 8ms/step - loss: 0.8153 - accuracy: 0.6478 - val_loss: 0.8614 - val_accuracy: 0.5830\n",
            "Epoch 5/100\n",
            "25/25 [==============================] - 0s 9ms/step - loss: 0.7454 - accuracy: 0.6766 - val_loss: 0.8350 - val_accuracy: 0.5693\n",
            "Epoch 6/100\n",
            "25/25 [==============================] - 0s 9ms/step - loss: 0.6923 - accuracy: 0.6919 - val_loss: 0.8242 - val_accuracy: 0.5905\n",
            "Epoch 7/100\n",
            "25/25 [==============================] - 0s 7ms/step - loss: 0.6652 - accuracy: 0.7025 - val_loss: 0.8255 - val_accuracy: 0.5868\n",
            "Epoch 8/100\n",
            "25/25 [==============================] - 0s 6ms/step - loss: 0.6551 - accuracy: 0.7138 - val_loss: 0.8309 - val_accuracy: 0.5868\n",
            "Epoch 9/100\n",
            "25/25 [==============================] - 0s 6ms/step - loss: 0.6499 - accuracy: 0.7138 - val_loss: 0.8291 - val_accuracy: 0.5855\n",
            "Epoch 10/100\n",
            "25/25 [==============================] - 0s 6ms/step - loss: 0.6487 - accuracy: 0.7078 - val_loss: 0.8298 - val_accuracy: 0.5855\n",
            "Epoch 11/100\n",
            "25/25 [==============================] - 0s 7ms/step - loss: 0.6465 - accuracy: 0.7134 - val_loss: 0.8309 - val_accuracy: 0.6017\n",
            "Epoch 12/100\n",
            "25/25 [==============================] - 0s 6ms/step - loss: 0.6453 - accuracy: 0.7141 - val_loss: 0.8328 - val_accuracy: 0.6017\n",
            "Epoch 13/100\n",
            "25/25 [==============================] - 0s 5ms/step - loss: 0.6441 - accuracy: 0.7138 - val_loss: 0.8341 - val_accuracy: 0.5980\n",
            "Epoch 14/100\n",
            "25/25 [==============================] - 0s 6ms/step - loss: 0.6458 - accuracy: 0.7131 - val_loss: 0.8357 - val_accuracy: 0.5905\n",
            "Epoch 15/100\n",
            "25/25 [==============================] - 0s 6ms/step - loss: 0.6433 - accuracy: 0.7163 - val_loss: 0.8334 - val_accuracy: 0.5930\n",
            "Epoch 16/100\n",
            "25/25 [==============================] - 0s 8ms/step - loss: 0.6431 - accuracy: 0.7163 - val_loss: 0.8366 - val_accuracy: 0.5993\n"
          ]
        }
      ]
    },
    {
      "cell_type": "code",
      "source": [
        "plt.plot(H.history['loss'], label='train loss')\n",
        "plt.plot(H.history['accuracy'], label='train acc')\n",
        "plt.plot(H.history['val_loss'], label='val loss')\n",
        "plt.plot(H.history['val_accuracy'], label='val acc')\n",
        "plt.legend()\n",
        "plt.xlabel('Epoch')\n",
        "plt.plot()"
      ],
      "metadata": {
        "colab": {
          "base_uri": "https://localhost:8080/",
          "height": 467
        },
        "id": "2owlt2mbdVtZ",
        "outputId": "598a4b65-ed49-4e28-d0b0-1b12cfc8dcba"
      },
      "execution_count": null,
      "outputs": [
        {
          "output_type": "execute_result",
          "data": {
            "text/plain": [
              "[]"
            ]
          },
          "metadata": {},
          "execution_count": 45
        },
        {
          "output_type": "display_data",
          "data": {
            "text/plain": [
              "<Figure size 640x480 with 1 Axes>"
            ],
            "image/png": "[encoded data removed]"
          },
          "metadata": {}
        }
      ]
    },
    {
      "cell_type": "markdown",
      "source": [
        "Finalmente, se evalúa el rendimiento del modelo de fusión en el conjunto de prueba y se imprimen la pérdida (`loss`) y la precisión (`accuracy`)."
      ],
      "metadata": {
        "id": "eruMyVrcwzrr"
      }
    },
    {
      "cell_type": "code",
      "source": [
        "loss, acc = late_fuser.evaluate(test_late_feats, test_y_cls)\n",
        "print(f'Loss={loss:.3f}, Accuracy={acc:.3f}')"
      ],
      "metadata": {
        "colab": {
          "base_uri": "https://localhost:8080/"
        },
        "id": "LwxnmBxPdZ1_",
        "outputId": "c1305721-31c9-44d0-e703-fc0fc39c78db"
      },
      "execution_count": null,
      "outputs": [
        {
          "output_type": "stream",
          "name": "stdout",
          "text": [
            "54/54 [==============================] - 0s 3ms/step - loss: 0.9463 - accuracy: 0.5565\n",
            "Loss=0.946, Accuracy=0.557\n"
          ]
        }
      ]
    },
    {
      "cell_type": "markdown",
      "source": [
        "# EARLY-FUSION"
      ],
      "metadata": {
        "id": "1PSh0ZZPddU-"
      }
    },
    {
      "cell_type": "markdown",
      "source": [
        "ste código se implementa una estrategia de **early-fusion**, donde se combinan los embeddings obtenidos por un modelo 1D y un modelo 2D para realizar una predicción final. A continuación, se detalla cada paso del proceso:"
      ],
      "metadata": {
        "id": "69dMJ6FCya4e"
      }
    },
    {
      "cell_type": "markdown",
      "source": [
        "Primero, se aplica PCA (Análisis de Componentes Principales) para reducir la dimensionalidad de los embeddings obtenidos del modelo 2D. Esto se hace para los conjuntos de entrenamiento, validación y prueba."
      ],
      "metadata": {
        "id": "oLeG72VTyate"
      }
    },
    {
      "cell_type": "code",
      "source": [
        "pca = PCA(n_components=24, random_state=42)\n",
        "train_early_pca = pca.fit_transform(embeddings[train_df.index])\n",
        "val_early_pca = pca.transform(embeddings[val_df.index])\n",
        "test_early_pca = pca.transform(embeddings[test_df.index])"
      ],
      "metadata": {
        "id": "_Vr0HRezdobu"
      },
      "execution_count": null,
      "outputs": []
    },
    {
      "cell_type": "code",
      "source": [
        "pca.explained_variance_ratio_.sum()"
      ],
      "metadata": {
        "colab": {
          "base_uri": "https://localhost:8080/"
        },
        "id": "cG4tFA7bdpNy",
        "outputId": "8ccb3612-a7ed-4fd2-d508-a4dab2fba670"
      },
      "execution_count": null,
      "outputs": [
        {
          "output_type": "execute_result",
          "data": {
            "text/plain": [
              "0.9142878"
            ]
          },
          "metadata": {},
          "execution_count": 49
        }
      ]
    },
    {
      "cell_type": "markdown",
      "source": [
        "Se combinan las características originales de los datos con los componentes principales obtenidos de PCA para crear nuevas características (`early_feats`) para cada conjunto (entrenamiento, validación y prueba)."
      ],
      "metadata": {
        "id": "_Mizt2Vdys6o"
      }
    },
    {
      "cell_type": "code",
      "source": [
        "train_early_feats = numpy.concatenate([train_df[feature_cols].values, train_early_pca], axis=1)\n",
        "val_early_feats = numpy.concatenate([val_df[feature_cols].values, val_early_pca], axis=1)\n",
        "test_early_feats = numpy.concatenate([test_df[feature_cols].values, test_early_pca], axis=1)\n",
        "\n",
        "print(f\"Dimensiones del nuevo conjunto de train: {train_early_feats.shape}\")"
      ],
      "metadata": {
        "colab": {
          "base_uri": "https://localhost:8080/"
        },
        "id": "I8uUL1hHdpGb",
        "outputId": "c94f75e0-3f05-46a3-ec88-b301fd5b86f8"
      },
      "execution_count": null,
      "outputs": [
        {
          "output_type": "stream",
          "name": "stdout",
          "text": [
            "Dimensiones del nuevo conjunto de train: (3200, 37)\n"
          ]
        }
      ]
    },
    {
      "cell_type": "markdown",
      "source": [
        "Se crea un nuevo modelo de clasificación (`early_fuser`) que combinará las características originales y los componentes principales obtenidos de PCA. Y se entrena el modelo de fusión utilizando las nuevas características de entrenamiento y validación, con un callback de `EarlyStopping` para evitar el sobreajuste."
      ],
      "metadata": {
        "id": "kFkCklDgy3E-"
      }
    },
    {
      "cell_type": "code",
      "source": [
        "early_fuser = create_classifier(train_early_feats.shape[1], train_y_cls.shape[1])\n",
        "\n",
        "H = early_fuser.fit(\n",
        "    x=train_early_feats,\n",
        "    y=train_y_cls,\n",
        "    batch_size=BS,\n",
        "    epochs=MAX_EPOCHS,\n",
        "    validation_data=(val_early_feats, val_y_cls),\n",
        "    callbacks=[EarlyStopping(monitor='val_loss', min_delta=1e-4, patience=10, verbose=0, mode='auto')],\n",
        "    shuffle=True,\n",
        "    verbose=1\n",
        ")"
      ],
      "metadata": {
        "colab": {
          "base_uri": "https://localhost:8080/"
        },
        "id": "Tywm0L1ado-i",
        "outputId": "5979209d-2d1c-4ad0-94f6-1d4a5ab743e7"
      },
      "execution_count": null,
      "outputs": [
        {
          "output_type": "stream",
          "name": "stdout",
          "text": [
            "Model: \"sequential_3\"\n",
            "_________________________________________________________________\n",
            " Layer (type)                Output Shape              Param #   \n",
            "=================================================================\n",
            " dense_12 (Dense)            (None, 64)                2432      \n",
            "                                                                 \n",
            " dense_13 (Dense)            (None, 32)                2080      \n",
            "                                                                 \n",
            " dense_14 (Dense)            (None, 8)                 264       \n",
            "                                                                 \n",
            " dense_15 (Dense)            (None, 3)                 27        \n",
            "                                                                 \n",
            "=================================================================\n",
            "Total params: 4803 (18.76 KB)\n",
            "Trainable params: 4803 (18.76 KB)\n",
            "Non-trainable params: 0 (0.00 Byte)\n",
            "_________________________________________________________________\n",
            "Epoch 1/100\n",
            "25/25 [==============================] - 1s 12ms/step - loss: 1.1137 - accuracy: 0.4069 - val_loss: 1.0908 - val_accuracy: 0.3970\n",
            "Epoch 2/100\n",
            "25/25 [==============================] - 0s 4ms/step - loss: 1.0693 - accuracy: 0.4941 - val_loss: 1.0752 - val_accuracy: 0.4345\n",
            "Epoch 3/100\n",
            "25/25 [==============================] - 0s 5ms/step - loss: 1.0263 - accuracy: 0.5606 - val_loss: 1.0285 - val_accuracy: 0.5206\n",
            "Epoch 4/100\n",
            "25/25 [==============================] - 0s 4ms/step - loss: 0.9425 - accuracy: 0.5850 - val_loss: 0.9387 - val_accuracy: 0.5543\n",
            "Epoch 5/100\n",
            "25/25 [==============================] - 0s 3ms/step - loss: 0.8492 - accuracy: 0.6137 - val_loss: 0.8915 - val_accuracy: 0.5893\n",
            "Epoch 6/100\n",
            "25/25 [==============================] - 0s 4ms/step - loss: 0.7884 - accuracy: 0.6350 - val_loss: 0.8454 - val_accuracy: 0.5793\n",
            "Epoch 7/100\n",
            "25/25 [==============================] - 0s 5ms/step - loss: 0.7545 - accuracy: 0.6481 - val_loss: 0.8411 - val_accuracy: 0.5830\n",
            "Epoch 8/100\n",
            "25/25 [==============================] - 0s 6ms/step - loss: 0.7342 - accuracy: 0.6522 - val_loss: 0.8262 - val_accuracy: 0.6017\n",
            "Epoch 9/100\n",
            "25/25 [==============================] - 0s 6ms/step - loss: 0.7154 - accuracy: 0.6678 - val_loss: 0.8082 - val_accuracy: 0.6042\n",
            "Epoch 10/100\n",
            "25/25 [==============================] - 0s 6ms/step - loss: 0.7003 - accuracy: 0.6781 - val_loss: 0.8015 - val_accuracy: 0.6180\n",
            "Epoch 11/100\n",
            "25/25 [==============================] - 0s 8ms/step - loss: 0.6971 - accuracy: 0.6850 - val_loss: 0.8015 - val_accuracy: 0.6080\n",
            "Epoch 12/100\n",
            "25/25 [==============================] - 0s 6ms/step - loss: 0.6779 - accuracy: 0.6819 - val_loss: 0.7897 - val_accuracy: 0.6305\n",
            "Epoch 13/100\n",
            "25/25 [==============================] - 0s 7ms/step - loss: 0.6700 - accuracy: 0.6938 - val_loss: 0.7921 - val_accuracy: 0.6192\n",
            "Epoch 14/100\n",
            "25/25 [==============================] - 0s 5ms/step - loss: 0.6602 - accuracy: 0.7041 - val_loss: 0.7910 - val_accuracy: 0.6192\n",
            "Epoch 15/100\n",
            "25/25 [==============================] - 0s 6ms/step - loss: 0.6513 - accuracy: 0.7072 - val_loss: 0.7784 - val_accuracy: 0.6317\n",
            "Epoch 16/100\n",
            "25/25 [==============================] - 0s 7ms/step - loss: 0.6398 - accuracy: 0.7122 - val_loss: 0.7911 - val_accuracy: 0.6130\n",
            "Epoch 17/100\n",
            "25/25 [==============================] - 0s 7ms/step - loss: 0.6408 - accuracy: 0.7119 - val_loss: 0.7825 - val_accuracy: 0.6242\n",
            "Epoch 18/100\n",
            "25/25 [==============================] - 0s 6ms/step - loss: 0.6290 - accuracy: 0.7159 - val_loss: 0.7808 - val_accuracy: 0.6255\n",
            "Epoch 19/100\n",
            "25/25 [==============================] - 0s 6ms/step - loss: 0.6155 - accuracy: 0.7306 - val_loss: 0.7829 - val_accuracy: 0.6117\n",
            "Epoch 20/100\n",
            "25/25 [==============================] - 0s 6ms/step - loss: 0.6043 - accuracy: 0.7384 - val_loss: 0.7883 - val_accuracy: 0.6205\n",
            "Epoch 21/100\n",
            "25/25 [==============================] - 0s 5ms/step - loss: 0.6065 - accuracy: 0.7381 - val_loss: 0.7871 - val_accuracy: 0.6117\n",
            "Epoch 22/100\n",
            "25/25 [==============================] - 0s 5ms/step - loss: 0.5989 - accuracy: 0.7391 - val_loss: 0.7877 - val_accuracy: 0.6142\n",
            "Epoch 23/100\n",
            "25/25 [==============================] - 0s 8ms/step - loss: 0.5882 - accuracy: 0.7472 - val_loss: 0.7744 - val_accuracy: 0.6267\n",
            "Epoch 24/100\n",
            "25/25 [==============================] - 0s 5ms/step - loss: 0.5809 - accuracy: 0.7481 - val_loss: 0.7848 - val_accuracy: 0.6255\n",
            "Epoch 25/100\n",
            "25/25 [==============================] - 0s 5ms/step - loss: 0.5704 - accuracy: 0.7559 - val_loss: 0.7846 - val_accuracy: 0.6305\n",
            "Epoch 26/100\n",
            "25/25 [==============================] - 0s 6ms/step - loss: 0.5706 - accuracy: 0.7519 - val_loss: 0.7806 - val_accuracy: 0.6217\n",
            "Epoch 27/100\n",
            "25/25 [==============================] - 0s 6ms/step - loss: 0.5636 - accuracy: 0.7572 - val_loss: 0.7747 - val_accuracy: 0.6330\n",
            "Epoch 28/100\n",
            "25/25 [==============================] - 0s 7ms/step - loss: 0.5494 - accuracy: 0.7613 - val_loss: 0.7724 - val_accuracy: 0.6317\n",
            "Epoch 29/100\n",
            "25/25 [==============================] - 0s 8ms/step - loss: 0.5436 - accuracy: 0.7653 - val_loss: 0.7720 - val_accuracy: 0.6367\n",
            "Epoch 30/100\n",
            "25/25 [==============================] - 0s 7ms/step - loss: 0.5343 - accuracy: 0.7744 - val_loss: 0.7817 - val_accuracy: 0.6330\n",
            "Epoch 31/100\n",
            "25/25 [==============================] - 0s 6ms/step - loss: 0.5285 - accuracy: 0.7784 - val_loss: 0.7783 - val_accuracy: 0.6392\n",
            "Epoch 32/100\n",
            "25/25 [==============================] - 0s 6ms/step - loss: 0.5225 - accuracy: 0.7772 - val_loss: 0.7918 - val_accuracy: 0.6305\n",
            "Epoch 33/100\n",
            "25/25 [==============================] - 0s 6ms/step - loss: 0.5242 - accuracy: 0.7734 - val_loss: 0.7809 - val_accuracy: 0.6342\n",
            "Epoch 34/100\n",
            "25/25 [==============================] - 0s 5ms/step - loss: 0.5105 - accuracy: 0.7884 - val_loss: 0.7987 - val_accuracy: 0.6280\n",
            "Epoch 35/100\n",
            "25/25 [==============================] - 0s 7ms/step - loss: 0.5032 - accuracy: 0.7916 - val_loss: 0.7844 - val_accuracy: 0.6442\n",
            "Epoch 36/100\n",
            "25/25 [==============================] - 0s 6ms/step - loss: 0.4959 - accuracy: 0.7916 - val_loss: 0.7891 - val_accuracy: 0.6317\n",
            "Epoch 37/100\n",
            "25/25 [==============================] - 0s 5ms/step - loss: 0.4914 - accuracy: 0.7947 - val_loss: 0.7861 - val_accuracy: 0.6442\n",
            "Epoch 38/100\n",
            "25/25 [==============================] - 0s 7ms/step - loss: 0.4816 - accuracy: 0.8069 - val_loss: 0.7912 - val_accuracy: 0.6429\n",
            "Epoch 39/100\n",
            "25/25 [==============================] - 0s 8ms/step - loss: 0.4805 - accuracy: 0.8037 - val_loss: 0.7932 - val_accuracy: 0.6392\n"
          ]
        }
      ]
    },
    {
      "cell_type": "code",
      "source": [
        "plt.plot(H.history['loss'], label='train loss')\n",
        "plt.plot(H.history['accuracy'], label='train acc')\n",
        "plt.plot(H.history['val_loss'], label='val loss')\n",
        "plt.plot(H.history['val_accuracy'], label='val acc')\n",
        "plt.legend()\n",
        "plt.xlabel('Epoch')\n",
        "plt.plot()"
      ],
      "metadata": {
        "colab": {
          "base_uri": "https://localhost:8080/",
          "height": 467
        },
        "id": "JJTbzZaLdo7g",
        "outputId": "7e72cd46-6316-4546-bd94-a000a1f5628d"
      },
      "execution_count": null,
      "outputs": [
        {
          "output_type": "execute_result",
          "data": {
            "text/plain": [
              "[]"
            ]
          },
          "metadata": {},
          "execution_count": 52
        },
        {
          "output_type": "display_data",
          "data": {
            "text/plain": [
              "<Figure size 640x480 with 1 Axes>"
            ],
            "image/png": "[encoded data removed]"
          },
          "metadata": {}
        }
      ]
    },
    {
      "cell_type": "markdown",
      "source": [
        "Finalmente, se evalúa el rendimiento del modelo de fusión en el conjunto de prueba y se imprimen la pérdida (`loss`) y la precisión (`accuracy`)."
      ],
      "metadata": {
        "id": "XYFcmoe3y8iH"
      }
    },
    {
      "cell_type": "code",
      "source": [
        "loss, acc = early_fuser.evaluate(test_early_feats, test_y_cls)\n",
        "print(f'Loss={loss:.3f}, Accuracy={acc:.3f} ')"
      ],
      "metadata": {
        "colab": {
          "base_uri": "https://localhost:8080/"
        },
        "id": "b0kshSsyd81Q",
        "outputId": "182fa666-2600-41e5-9437-2d8894ed19f4"
      },
      "execution_count": null,
      "outputs": [
        {
          "output_type": "stream",
          "name": "stdout",
          "text": [
            "54/54 [==============================] - 0s 3ms/step - loss: 0.8663 - accuracy: 0.6055\n",
            "Loss=0.866, Accuracy=0.605 \n"
          ]
        }
      ]
    },
    {
      "cell_type": "markdown",
      "source": [
        "Aunque había completado hasta casi el ejercicio dos en la práctica, tuve que rehacerlo siguiendo tus pasos. Intenté combinar tu solución con la mía, pero encontré errores por todas partes. Sin embargo, al final logré entender todos los procesos realizados en la práctica, y así poder terminarla."
      ],
      "metadata": {
        "id": "YIzYPE88bus-"
      }
    }
  ]
}